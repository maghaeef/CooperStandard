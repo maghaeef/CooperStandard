{
 "cells": [
  {
   "cell_type": "code",
   "execution_count": 1,
   "metadata": {},
   "outputs": [
    {
     "name": "stderr",
     "output_type": "stream",
     "text": [
      "/home/mohammad/.local/lib/python3.8/site-packages/scipy/__init__.py:146: UserWarning: A NumPy version >=1.16.5 and <1.23.0 is required for this version of SciPy (detected version 1.24.4\n",
      "  warnings.warn(f\"A NumPy version >={np_minversion} and <{np_maxversion}\"\n"
     ]
    }
   ],
   "source": [
    "from bounds import bounds\n",
    "import matplotlib.pyplot as plt\n",
    "import pandas as pd\n",
    "import numpy as np\n",
    "import ast\n",
    "from cooper_standard import CooperStandard"
   ]
  },
  {
   "cell_type": "code",
   "execution_count": 2,
   "metadata": {},
   "outputs": [
    {
     "name": "stdout",
     "output_type": "stream",
     "text": [
      "Total number of batches: 5018\n",
      "Number of low batches (t5 < 7.0): 223\n",
      "Number of normal batches (7.0 <= t5 <= 9.0): 4435\n",
      "Number of high batches (t5 > 9.0): 360\n",
      "\n",
      "Total number of batches: 1075\n",
      "Number of low batches (t5 < 7.0): 52\n",
      "Number of normal batches (7.0 <= t5 <= 9.0): 945\n",
      "Number of high batches (t5 > 9.0): 78\n",
      "\n",
      "Total number of batches: 1076\n",
      "Number of low batches (t5 < 7.0): 34\n",
      "Number of normal batches (7.0 <= t5 <= 9.0): 961\n",
      "Number of high batches (t5 > 9.0): 81\n",
      "\n"
     ]
    }
   ],
   "source": [
    "# Example usage\n",
    "file_path = \"DataOn2025Jan08.xlsx\"\n",
    "sheet_names = [\"NES170K07Line2\", \"NES170K07Line1\"]\n",
    "variables = [\"batch_number\", \"MDRTorqueS1\", \"MDRTorqueS2\", \n",
    "             \"mh\", \"ml\", \"TimeAtML\", \"TimeAtML_min\", \"ml_min\", \"start_time\", \"end_time\", \"t5\"]\n",
    "\n",
    "cooper_standard = CooperStandard(file_path, sheet_names, variables)\n",
    "df_all = cooper_standard.load_data()\n",
    "df_vars = cooper_standard.df_variables()\n",
    "cleaned_df, removed_batches = cooper_standard.preprocessing(280)\n",
    "lb, ub = bounds[\"170K\"][0], bounds[\"170K\"][1]  # Assuming bounds is defined elsewhere\n",
    "#df_low, df_normal, df_high = cooper_standard.categorize_t5(lb, ub)\n",
    "\n",
    "# Convert to dictionary\n",
    "df_normal_dict = cooper_standard.convert_to_dict(cleaned_df)\n",
    "\n",
    "# Split the data\n",
    "train_dict, val_dict, test_dict = cooper_standard.split_data(df_normal_dict, random_state=42)\n",
    "\n",
    "# Normalize using training data statistics\n",
    "train_dict_norm = cooper_standard.normalize_data(train_dict, fit=True)\n",
    "val_dict_norm = cooper_standard.normalize_data(val_dict, fit=False)\n",
    "test_dict_norm = cooper_standard.normalize_data(test_dict, fit=False)\n",
    "\n",
    "cooper_standard.print_t5_categories(train_dict_norm, lb, ub)\n",
    "cooper_standard.print_t5_categories(val_dict_norm, lb, ub)\n",
    "cooper_standard.print_t5_categories(test_dict_norm, lb, ub)"
   ]
  },
  {
   "cell_type": "code",
   "execution_count": 3,
   "metadata": {},
   "outputs": [
    {
     "name": "stdout",
     "output_type": "stream",
     "text": [
      "number of training data points: 5018\n",
      "number of validation data points: 1075\n",
      "number of test data points: 1076\n"
     ]
    }
   ],
   "source": [
    "print(f\"number of training data points: {len(train_dict_norm)}\")\n",
    "print(f\"number of validation data points: {len(val_dict_norm)}\")\n",
    "print(f\"number of test data points: {len(test_dict_norm)}\")"
   ]
  },
  {
   "cell_type": "markdown",
   "metadata": {},
   "source": [
    "**Model**"
   ]
  },
  {
   "cell_type": "code",
   "execution_count": null,
   "metadata": {},
   "outputs": [
    {
     "name": "stderr",
     "output_type": "stream",
     "text": [
      "2025-03-01 23:47:44.670854: W tensorflow/stream_executor/platform/default/dso_loader.cc:64] Could not load dynamic library 'libcudart.so.11.0'; dlerror: libcudart.so.11.0: cannot open shared object file: No such file or directory\n",
      "2025-03-01 23:47:44.671000: I tensorflow/stream_executor/cuda/cudart_stub.cc:29] Ignore above cudart dlerror if you do not have a GPU set up on your machine.\n"
     ]
    }
   ],
   "source": [
    "from keras.models import Model\n",
    "from keras.layers import Input, LSTM, Dense, Concatenate"
   ]
  },
  {
   "cell_type": "code",
   "execution_count": 4,
   "metadata": {},
   "outputs": [],
   "source": [
    "def prepare_data_from_dict(data_dict):\n",
    "    # Extract time series, scalar features, and targets from the dictionary\n",
    "    time_series = np.array([batch[\"time_series\"] for batch in data_dict.values()])\n",
    "    scalar_features = np.array([batch[\"scalar_features\"] for batch in data_dict.values()])\n",
    "    targets = np.array([batch[\"t5\"] for batch in data_dict.values()])\n",
    "    return time_series, scalar_features, targets"
   ]
  },
  {
   "cell_type": "code",
   "execution_count": 5,
   "metadata": {},
   "outputs": [],
   "source": [
    "train_ts, train_scalar, train_targets = prepare_data_from_dict(train_dict_norm)\n",
    "val_ts, val_scalar, val_targets = prepare_data_from_dict(val_dict_norm)\n",
    "test_ts, test_scalar, test_targets = prepare_data_from_dict(test_dict_norm)"
   ]
  },
  {
   "cell_type": "code",
   "execution_count": 6,
   "metadata": {},
   "outputs": [
    {
     "name": "stderr",
     "output_type": "stream",
     "text": [
      "2025-03-01 23:48:47.175072: W tensorflow/stream_executor/platform/default/dso_loader.cc:64] Could not load dynamic library 'libcuda.so.1'; dlerror: libcuda.so.1: cannot open shared object file: No such file or directory\n",
      "2025-03-01 23:48:47.175118: W tensorflow/stream_executor/cuda/cuda_driver.cc:269] failed call to cuInit: UNKNOWN ERROR (303)\n",
      "2025-03-01 23:48:47.175158: I tensorflow/stream_executor/cuda/cuda_diagnostics.cc:156] kernel driver does not appear to be running on this host (ubuntu): /proc/driver/nvidia/version does not exist\n",
      "2025-03-01 23:48:47.175799: I tensorflow/core/platform/cpu_feature_guard.cc:151] This TensorFlow binary is optimized with oneAPI Deep Neural Network Library (oneDNN) to use the following CPU instructions in performance-critical operations:  AVX2 FMA\n",
      "To enable them in other operations, rebuild TensorFlow with the appropriate compiler flags.\n"
     ]
    }
   ],
   "source": [
    "# Get input shapes from the training data\n",
    "sequence_length = train_ts.shape[1]  # e.g., 100 if time series are truncated to 100 steps\n",
    "num_scalar_features = train_scalar.shape[1]  # e.g., 6 if there are 6 scalar features\n",
    "\n",
    "# Time series input branch\n",
    "ts_input = Input(shape=(sequence_length, 4), name='time_series_input')\n",
    "lstm_out = LSTM(units=64)(ts_input)  # Output shape: (batch_size, 64)\n",
    "\n",
    "# Scalar features input branch\n",
    "scalar_input = Input(shape=(num_scalar_features,), name='scalar_input')\n",
    "scalar_dense = Dense(16, activation='relu')(scalar_input)  # Output shape: (batch_size, 16)\n",
    "\n",
    "# Combine the two branches\n",
    "combined = Concatenate()([lstm_out, scalar_dense])  # Output shape: (batch_size, 64 + 16)\n",
    "\n",
    "# Dense layers for prediction\n",
    "dense = Dense(32, activation='relu')(combined)\n",
    "output = Dense(1, name='t5_output')(dense)  # Single output for regression\n",
    "\n",
    "# Define and compile the model\n",
    "model = Model(inputs=[ts_input, scalar_input], outputs=output)\n",
    "model.compile(optimizer='adam', loss='mse', metrics=['mae'])"
   ]
  },
  {
   "cell_type": "code",
   "execution_count": 7,
   "metadata": {},
   "outputs": [
    {
     "name": "stdout",
     "output_type": "stream",
     "text": [
      "Epoch 1/50\n",
      "157/157 [==============================] - 24s 139ms/step - loss: 6.3534 - mae: 1.4134 - val_loss: 0.4201 - val_mae: 0.5069\n",
      "Epoch 2/50\n",
      "157/157 [==============================] - 21s 131ms/step - loss: 0.3899 - mae: 0.4869 - val_loss: 0.4072 - val_mae: 0.4985\n",
      "Epoch 3/50\n",
      "157/157 [==============================] - 20s 127ms/step - loss: 0.3670 - mae: 0.4729 - val_loss: 0.3830 - val_mae: 0.4844\n",
      "Epoch 4/50\n",
      "157/157 [==============================] - 21s 136ms/step - loss: 0.3367 - mae: 0.4532 - val_loss: 0.3564 - val_mae: 0.4624\n",
      "Epoch 5/50\n",
      "157/157 [==============================] - 21s 136ms/step - loss: 0.3190 - mae: 0.4420 - val_loss: 0.3439 - val_mae: 0.4545\n",
      "Epoch 6/50\n",
      "157/157 [==============================] - 20s 130ms/step - loss: 0.3102 - mae: 0.4371 - val_loss: 0.3379 - val_mae: 0.4489\n",
      "Epoch 7/50\n",
      "157/157 [==============================] - 21s 133ms/step - loss: 0.3055 - mae: 0.4341 - val_loss: 0.3317 - val_mae: 0.4443\n",
      "Epoch 8/50\n",
      "157/157 [==============================] - 21s 131ms/step - loss: 0.3004 - mae: 0.4303 - val_loss: 0.3285 - val_mae: 0.4435\n",
      "Epoch 9/50\n",
      "157/157 [==============================] - 21s 134ms/step - loss: 0.2971 - mae: 0.4272 - val_loss: 0.3251 - val_mae: 0.4404\n",
      "Epoch 10/50\n",
      "157/157 [==============================] - 21s 135ms/step - loss: 0.2981 - mae: 0.4288 - val_loss: 0.3216 - val_mae: 0.4356\n",
      "Epoch 11/50\n",
      "157/157 [==============================] - 23s 148ms/step - loss: 0.2933 - mae: 0.4240 - val_loss: 0.3285 - val_mae: 0.4386\n",
      "Epoch 12/50\n",
      "157/157 [==============================] - 22s 139ms/step - loss: 0.2882 - mae: 0.4194 - val_loss: 0.3184 - val_mae: 0.4322\n",
      "Epoch 13/50\n",
      "157/157 [==============================] - 21s 137ms/step - loss: 0.2943 - mae: 0.4249 - val_loss: 0.3301 - val_mae: 0.4446\n",
      "Epoch 14/50\n",
      "157/157 [==============================] - 19s 123ms/step - loss: 0.2860 - mae: 0.4183 - val_loss: 0.3164 - val_mae: 0.4296\n",
      "Epoch 15/50\n",
      "157/157 [==============================] - 19s 122ms/step - loss: 0.2866 - mae: 0.4196 - val_loss: 0.3174 - val_mae: 0.4293\n",
      "Epoch 16/50\n",
      "157/157 [==============================] - 23s 149ms/step - loss: 0.2846 - mae: 0.4163 - val_loss: 0.3303 - val_mae: 0.4380\n",
      "Epoch 17/50\n",
      "157/157 [==============================] - 23s 145ms/step - loss: 0.2845 - mae: 0.4174 - val_loss: 0.3162 - val_mae: 0.4295\n",
      "Epoch 18/50\n",
      "157/157 [==============================] - 23s 145ms/step - loss: 0.2879 - mae: 0.4199 - val_loss: 0.3148 - val_mae: 0.4264\n",
      "Epoch 19/50\n",
      "157/157 [==============================] - 21s 136ms/step - loss: 0.2838 - mae: 0.4172 - val_loss: 0.3151 - val_mae: 0.4262\n",
      "Epoch 20/50\n",
      "157/157 [==============================] - 21s 133ms/step - loss: 0.2874 - mae: 0.4176 - val_loss: 0.3144 - val_mae: 0.4257\n",
      "Epoch 21/50\n",
      "157/157 [==============================] - 21s 137ms/step - loss: 0.2802 - mae: 0.4135 - val_loss: 0.3447 - val_mae: 0.4489\n",
      "Epoch 22/50\n",
      "157/157 [==============================] - 21s 133ms/step - loss: 0.2873 - mae: 0.4195 - val_loss: 0.3315 - val_mae: 0.4375\n",
      "Epoch 23/50\n",
      "157/157 [==============================] - 23s 148ms/step - loss: 0.2818 - mae: 0.4158 - val_loss: 0.3312 - val_mae: 0.4431\n",
      "Epoch 24/50\n",
      "157/157 [==============================] - 22s 138ms/step - loss: 0.2862 - mae: 0.4174 - val_loss: 0.3324 - val_mae: 0.4378\n",
      "Epoch 25/50\n",
      "157/157 [==============================] - 22s 140ms/step - loss: 0.2857 - mae: 0.4182 - val_loss: 0.3158 - val_mae: 0.4262\n",
      "Epoch 26/50\n",
      "157/157 [==============================] - 22s 140ms/step - loss: 0.2805 - mae: 0.4141 - val_loss: 0.3159 - val_mae: 0.4261\n",
      "Epoch 27/50\n",
      "157/157 [==============================] - 21s 133ms/step - loss: 0.2845 - mae: 0.4176 - val_loss: 0.3161 - val_mae: 0.4245\n",
      "Epoch 28/50\n",
      "157/157 [==============================] - 21s 134ms/step - loss: 0.2853 - mae: 0.4178 - val_loss: 0.3171 - val_mae: 0.4249\n",
      "Epoch 29/50\n",
      "157/157 [==============================] - 21s 133ms/step - loss: 0.2806 - mae: 0.4137 - val_loss: 0.3388 - val_mae: 0.4422\n",
      "Epoch 30/50\n",
      "157/157 [==============================] - 21s 135ms/step - loss: 0.2837 - mae: 0.4158 - val_loss: 0.3160 - val_mae: 0.4242\n",
      "Epoch 31/50\n",
      "157/157 [==============================] - 21s 132ms/step - loss: 0.2790 - mae: 0.4126 - val_loss: 0.3177 - val_mae: 0.4247\n",
      "Epoch 32/50\n",
      "157/157 [==============================] - 21s 136ms/step - loss: 0.2801 - mae: 0.4136 - val_loss: 0.3157 - val_mae: 0.4239\n",
      "Epoch 33/50\n",
      "157/157 [==============================] - 22s 137ms/step - loss: 0.2781 - mae: 0.4124 - val_loss: 0.3164 - val_mae: 0.4255\n",
      "Epoch 34/50\n",
      "157/157 [==============================] - 21s 133ms/step - loss: 0.2794 - mae: 0.4140 - val_loss: 0.3226 - val_mae: 0.4324\n",
      "Epoch 35/50\n",
      "157/157 [==============================] - 21s 135ms/step - loss: 0.2812 - mae: 0.4139 - val_loss: 0.3162 - val_mae: 0.4236\n",
      "Epoch 36/50\n",
      "157/157 [==============================] - 21s 137ms/step - loss: 0.2760 - mae: 0.4110 - val_loss: 0.3237 - val_mae: 0.4289\n",
      "Epoch 37/50\n",
      "157/157 [==============================] - 21s 136ms/step - loss: 0.2762 - mae: 0.4112 - val_loss: 0.3186 - val_mae: 0.4247\n",
      "Epoch 38/50\n",
      "157/157 [==============================] - 21s 131ms/step - loss: 0.2767 - mae: 0.4109 - val_loss: 0.3201 - val_mae: 0.4288\n",
      "Epoch 39/50\n",
      "157/157 [==============================] - 21s 136ms/step - loss: 0.2734 - mae: 0.4091 - val_loss: 0.3167 - val_mae: 0.4238\n",
      "Epoch 40/50\n",
      "157/157 [==============================] - 21s 136ms/step - loss: 0.2825 - mae: 0.4169 - val_loss: 0.3173 - val_mae: 0.4237\n",
      "Epoch 41/50\n",
      "157/157 [==============================] - 21s 136ms/step - loss: 0.2734 - mae: 0.4093 - val_loss: 0.3175 - val_mae: 0.4254\n",
      "Epoch 42/50\n",
      "157/157 [==============================] - 21s 132ms/step - loss: 0.2805 - mae: 0.4133 - val_loss: 0.3320 - val_mae: 0.4351\n",
      "Epoch 43/50\n",
      "157/157 [==============================] - 21s 135ms/step - loss: 0.2767 - mae: 0.4116 - val_loss: 0.3499 - val_mae: 0.4505\n",
      "Epoch 44/50\n",
      "157/157 [==============================] - 21s 136ms/step - loss: 0.2739 - mae: 0.4091 - val_loss: 0.3221 - val_mae: 0.4267\n",
      "Epoch 45/50\n",
      "157/157 [==============================] - 21s 134ms/step - loss: 0.2781 - mae: 0.4138 - val_loss: 0.3441 - val_mae: 0.4456\n",
      "Epoch 46/50\n",
      "157/157 [==============================] - 21s 133ms/step - loss: 0.2722 - mae: 0.4080 - val_loss: 0.3481 - val_mae: 0.4490\n",
      "Epoch 47/50\n",
      "157/157 [==============================] - 21s 134ms/step - loss: 0.2757 - mae: 0.4107 - val_loss: 0.3381 - val_mae: 0.4449\n",
      "Epoch 48/50\n",
      "157/157 [==============================] - 21s 136ms/step - loss: 0.2719 - mae: 0.4076 - val_loss: 0.3212 - val_mae: 0.4260\n",
      "Epoch 49/50\n",
      "157/157 [==============================] - 21s 131ms/step - loss: 0.2726 - mae: 0.4084 - val_loss: 0.3219 - val_mae: 0.4261\n",
      "Epoch 50/50\n",
      "157/157 [==============================] - 21s 133ms/step - loss: 0.2713 - mae: 0.4084 - val_loss: 0.3234 - val_mae: 0.4275\n"
     ]
    }
   ],
   "source": [
    "# Train the model\n",
    "history = model.fit(\n",
    "    [train_ts, train_scalar], train_targets,  # Training inputs and targets\n",
    "    validation_data=([val_ts, val_scalar], val_targets),  # Validation inputs and targets\n",
    "    epochs=50,  # Number of epochs (adjust as needed)\n",
    "    batch_size=32,  # Batch size (adjust based on your data size)\n",
    "    verbose=1  # Show training progress\n",
    ")"
   ]
  },
  {
   "cell_type": "code",
   "execution_count": 10,
   "metadata": {},
   "outputs": [
    {
     "data": {
      "image/png": "[encoded data removed]",
      "text/plain": [
       "<Figure size 432x288 with 1 Axes>"
      ]
     },
     "metadata": {
      "needs_background": "light"
     },
     "output_type": "display_data"
    }
   ],
   "source": [
    "# Plot training and validation loss\n",
    "plt.plot(history.history['loss'], label='Training Loss')\n",
    "plt.plot(history.history['val_loss'], label='Validation Loss')\n",
    "plt.title('Model Loss Over Epochs')\n",
    "plt.xlabel('Epochs')\n",
    "plt.ylabel('Loss (MSE)')\n",
    "plt.legend()\n",
    "plt.show()"
   ]
  },
  {
   "cell_type": "code",
   "execution_count": 11,
   "metadata": {},
   "outputs": [
    {
     "name": "stdout",
     "output_type": "stream",
     "text": [
      "Training Set - Loss (MSE): 0.2675, MAE: 0.4051\n",
      "Validation Set - Loss (MSE): 0.3234, MAE: 0.4275\n",
      "Test Set - Loss (MSE): 0.2707, MAE: 0.4078\n"
     ]
    }
   ],
   "source": [
    "train_loss, train_mae = model.evaluate([train_ts, train_scalar], train_targets, verbose=0)\n",
    "print(f\"Training Set - Loss (MSE): {train_loss:.4f}, MAE: {train_mae:.4f}\")\n",
    "val_loss, val_mae = model.evaluate([val_ts, val_scalar], val_targets, verbose=0)\n",
    "print(f\"Validation Set - Loss (MSE): {val_loss:.4f}, MAE: {val_mae:.4f}\")\n",
    "test_loss, test_mae = model.evaluate([test_ts, test_scalar], test_targets, verbose=0)\n",
    "print(f\"Test Set - Loss (MSE): {test_loss:.4f}, MAE: {test_mae:.4f}\")"
   ]
  },
  {
   "cell_type": "code",
   "execution_count": 12,
   "metadata": {},
   "outputs": [],
   "source": [
    "train_pred = model.predict([train_ts, train_scalar]).flatten()\n",
    "val_pred = model.predict([val_ts, val_scalar]).flatten()\n",
    "test_pred = model.predict([test_ts, test_scalar]).flatten()"
   ]
  },
  {
   "cell_type": "code",
   "execution_count": 13,
   "metadata": {},
   "outputs": [],
   "source": [
    "def compute_class_metrics(true_t5, pred_t5, lb, ub):\n",
    "    # Masks for true classes\n",
    "    low_mask = true_t5 < lb\n",
    "    normal_mask = (true_t5 >= lb) & (true_t5 <= ub)\n",
    "    high_mask = true_t5 > ub\n",
    "    \n",
    "    # Masks for predicted classes\n",
    "    pred_low = pred_t5 < lb\n",
    "    pred_normal = (pred_t5 >= lb) & (pred_t5 <= ub)\n",
    "    pred_high = pred_t5 > ub\n",
    "    \n",
    "    # Helper function to compute MAE and accuracy\n",
    "    def get_metrics(mask, pred_class):\n",
    "        if np.sum(mask) == 0:  # Handle empty classes\n",
    "            return np.nan, np.nan\n",
    "        mae = np.mean(np.abs(true_t5[mask] - pred_t5[mask]))\n",
    "        accuracy = np.mean(pred_class[mask]) * 100  # Percentage\n",
    "        return mae, accuracy\n",
    "    \n",
    "    # Compute metrics for each class\n",
    "    low_mae, low_acc = get_metrics(low_mask, pred_low)\n",
    "    normal_mae, normal_acc = get_metrics(normal_mask, pred_normal)\n",
    "    high_mae, high_acc = get_metrics(high_mask, pred_high)\n",
    "    \n",
    "    return {\n",
    "        'low': {'mae': low_mae, 'accuracy': low_acc},\n",
    "        'normal': {'mae': normal_mae, 'accuracy': normal_acc},\n",
    "        'high': {'mae': high_mae, 'accuracy': high_acc}\n",
    "    }"
   ]
  },
  {
   "cell_type": "code",
   "execution_count": 14,
   "metadata": {},
   "outputs": [],
   "source": [
    "def print_metrics(metrics, dataset_name):\n",
    "    print(f\"--- {dataset_name} ---\")\n",
    "    for class_name in ['low', 'normal', 'high']:\n",
    "        mae = metrics[class_name]['mae']\n",
    "        acc = metrics[class_name]['accuracy']\n",
    "        if np.isnan(mae):\n",
    "            print(f\"{class_name.capitalize()}: No data points\")\n",
    "        else:\n",
    "            print(f\"{class_name.capitalize()}: MAE = {mae:.4f}, Accuracy = {acc:.2f}%\")"
   ]
  },
  {
   "cell_type": "code",
   "execution_count": 15,
   "metadata": {},
   "outputs": [
    {
     "name": "stdout",
     "output_type": "stream",
     "text": [
      "--- Training Set ---\n",
      "Low: MAE = 0.9981, Accuracy = 1.79%\n",
      "Normal: MAE = 0.3477, Accuracy = 98.99%\n",
      "High: MAE = 0.7451, Accuracy = 12.50%\n",
      "--- Validation Set ---\n",
      "Low: MAE = 1.1223, Accuracy = 1.92%\n",
      "Normal: MAE = 0.3595, Accuracy = 98.94%\n",
      "High: MAE = 0.7875, Accuracy = 7.69%\n",
      "--- Test Set ---\n",
      "Low: MAE = 1.0096, Accuracy = 2.94%\n",
      "Normal: MAE = 0.3566, Accuracy = 98.86%\n",
      "High: MAE = 0.7627, Accuracy = 8.64%\n"
     ]
    }
   ],
   "source": [
    "# Compute metrics\n",
    "train_metrics = compute_class_metrics(train_targets, train_pred, lb, ub)\n",
    "val_metrics = compute_class_metrics(val_targets, val_pred, lb, ub)\n",
    "test_metrics = compute_class_metrics(test_targets, test_pred, lb, ub)\n",
    "\n",
    "# Print results\n",
    "print_metrics(train_metrics, \"Training Set\")\n",
    "print_metrics(val_metrics, \"Validation Set\")\n",
    "print_metrics(test_metrics, \"Test Set\")"
   ]
  },
  {
   "cell_type": "code",
   "execution_count": null,
   "metadata": {},
   "outputs": [
    {
     "name": "stdout",
     "output_type": "stream",
     "text": [
      "Class Distribution for Training Set:\n",
      "normal    4435\n",
      "high       360\n",
      "low        223\n",
      "dtype: int64\n",
      "Percentage:\n",
      "normal    88.381825\n",
      "high       7.174173\n",
      "low        4.444002\n",
      "dtype: float64\n",
      "\n",
      "Class Distribution for Validation Set:\n",
      "normal    945\n",
      "high       78\n",
      "low        52\n",
      "dtype: int64\n",
      "Percentage:\n",
      "normal    87.906977\n",
      "high       7.255814\n",
      "low        4.837209\n",
      "dtype: float64\n",
      "\n",
      "Class Distribution for Test Set:\n",
      "normal    961\n",
      "high       81\n",
      "low        34\n",
      "dtype: int64\n",
      "Percentage:\n",
      "normal    89.312268\n",
      "high       7.527881\n",
      "low        3.159851\n",
      "dtype: float64\n",
      "\n",
      "Mean of Scalar Features by Class:\n",
      "               0         1         2         3         4         5\n",
      "class                                                             \n",
      "high    0.458557  0.312527  0.536190  0.577961  0.322265  0.010653\n",
      "low     0.457467  0.336850  0.487124  0.432392  0.467155  0.010436\n",
      "normal  0.455130  0.322073  0.524535  0.506335  0.401179  0.010005\n",
      "\n",
      "Standard Deviation of Scalar Features by Class:\n",
      "               0         1         2         3         4         5\n",
      "class                                                             \n",
      "high    0.120338  0.095539  0.093327  0.063218  0.116028  0.006240\n",
      "low     0.103925  0.092200  0.096538  0.049314  0.117347  0.003571\n",
      "normal  0.116146  0.079134  0.084121  0.068745  0.115200  0.015551\n"
     ]
    },
    {
     "data": {
      "image/png": "[encoded data removed]",
      "text/plain": [
       "<Figure size 432x288 with 1 Axes>"
      ]
     },
     "metadata": {
      "needs_background": "light"
     },
     "output_type": "display_data"
    },
    {
     "data": {
      "image/png": "[encoded data removed]",
      "text/plain": [
       "<Figure size 432x288 with 1 Axes>"
      ]
     },
     "metadata": {
      "needs_background": "light"
     },
     "output_type": "display_data"
    },
    {
     "data": {
      "image/png": "[encoded data removed]",
      "text/plain": [
       "<Figure size 432x288 with 1 Axes>"
      ]
     },
     "metadata": {
      "needs_background": "light"
     },
     "output_type": "display_data"
    },
    {
     "data": {
      "image/png": "[encoded data removed]",
      "text/plain": [
       "<Figure size 432x288 with 1 Axes>"
      ]
     },
     "metadata": {
      "needs_background": "light"
     },
     "output_type": "display_data"
    },
    {
     "data": {
      "image/png": "[encoded data removed]",
      "text/plain": [
       "<Figure size 432x288 with 1 Axes>"
      ]
     },
     "metadata": {
      "needs_background": "light"
     },
     "output_type": "display_data"
    },
    {
     "data": {
      "image/png": "[encoded data removed]",
      "text/plain": [
       "<Figure size 432x288 with 1 Axes>"
      ]
     },
     "metadata": {
      "needs_background": "light"
     },
     "output_type": "display_data"
    }
   ],
   "source": [
    "import numpy as np\n",
    "import pandas as pd\n",
    "import matplotlib.pyplot as plt\n",
    "\n",
    "# Function to assign classes based on t5\n",
    "def categorize_t5(t5):\n",
    "    if t5 < lb:\n",
    "        return 'low'\n",
    "    elif lb <= t5 <= ub:\n",
    "        return 'normal'\n",
    "    else:\n",
    "        return 'high'\n",
    "\n",
    "# Analyze class distribution\n",
    "def analyze_class_distribution(targets, dataset_name):\n",
    "    classes = [categorize_t5(t) for t in targets]\n",
    "    class_counts = pd.Series(classes).value_counts()\n",
    "    print(f\"Class Distribution for {dataset_name}:\")\n",
    "    print(class_counts)\n",
    "    print(f\"Percentage:\\n{class_counts / len(targets) * 100}\\n\")\n",
    "\n",
    "# Analyze scalar features\n",
    "def analyze_scalar_features(scalar_features, targets):\n",
    "    df = pd.DataFrame(scalar_features)\n",
    "    df['class'] = [categorize_t5(t) for t in targets]\n",
    "    \n",
    "    # Compute mean and standard deviation by class\n",
    "    means = df.groupby('class').mean()\n",
    "    stds = df.groupby('class').std()\n",
    "    \n",
    "    print(\"Mean of Scalar Features by Class:\")\n",
    "    print(means)\n",
    "    print(\"\\nStandard Deviation of Scalar Features by Class:\")\n",
    "    print(stds)\n",
    "    \n",
    "    # Create box plots\n",
    "    for col in df.columns[:-1]:  # Exclude 'class'\n",
    "        df.boxplot(column=col, by='class')\n",
    "        plt.title(f'Box Plot of {col} by Class')\n",
    "        plt.show()\n",
    "\n",
    "# Run the analysis\n",
    "analyze_class_distribution(train_targets, \"Training Set\")\n",
    "analyze_class_distribution(val_targets, \"Validation Set\")\n",
    "analyze_class_distribution(test_targets, \"Test Set\")\n",
    "analyze_scalar_features(train_scalar, train_targets)"
   ]
  },
  {
   "cell_type": "code",
   "execution_count": null,
   "metadata": {},
   "outputs": [],
   "source": [
    "import numpy as np\n",
    "import pandas as pd\n",
    "import matplotlib.pyplot as plt\n",
    "import seaborn as sns\n",
    "from scipy.stats import f_oneway\n",
    "from fastdtw import fastdtw\n",
    "\n",
    "# Sample data generation (replace with your actual data)\n",
    "np.random.seed(42)\n",
    "num_samples = 1000\n",
    "num_features = 5\n",
    "sequence_length = 50\n",
    "\n",
    "# Scalar features (num_samples x num_features)\n",
    "train_scalar = np.random.randn(num_samples, num_features) * 10\n",
    "# Time series data (num_samples x sequence_length x 4) [time, S1, S2, S1/S2]\n",
    "train_ts = np.random.randn(num_samples, sequence_length, 4) * 5\n",
    "train_ts[:, :, 0] = np.linspace(0, 10, sequence_length)  # Time column\n",
    "# Target values (t5)\n",
    "train_targets = np.random.randn(num_samples) * 15\n",
    "\n",
    "\n",
    "# Function to categorize t5 into classes\n",
    "def categorize_t5(t5):\n",
    "    if t5 < lb:\n",
    "        return 'low'\n",
    "    elif lb <= t5 <= ub:\n",
    "        return 'normal'\n",
    "    else:\n",
    "        return 'high'\n",
    "\n",
    "# Assign classes based on target values\n",
    "train_classes = np.array([categorize_t5(t) for t in train_targets])\n",
    "\n",
    "\n",
    "### Step 1: Class Distribution Analysis\n",
    "print(\"### Class Distribution Analysis ###\")\n",
    "class_counts = pd.Series(train_classes).value_counts()\n",
    "class_percentages = class_counts / len(train_classes) * 100\n",
    "print(\"Class Counts:\")\n",
    "print(class_counts)\n",
    "print(\"\\nPercentage Distribution:\")\n",
    "print(class_percentages)\n",
    "\n",
    "\n",
    "### Step 2: Scalar Feature Analysis\n",
    "scalar_df = pd.DataFrame(train_scalar, columns=[f'Feature_{i}' for i in range(num_features)])\n",
    "scalar_df['class'] = train_classes\n",
    "\n",
    "#### 2.1. Descriptive Statistics\n",
    "print(\"\\n### Scalar Feature Analysis ###\")\n",
    "print(\"Mean of Scalar Features by Class:\")\n",
    "means = scalar_df.groupby('class').mean()\n",
    "print(means)\n",
    "print(\"\\nStandard Deviation of Scalar Features by Class:\")\n",
    "stds = scalar_df.groupby('class').std()\n",
    "print(stds)\n",
    "\n",
    "#### 2.2. Visualizations\n",
    "print(\"\\nGenerating box plots for scalar features...\")\n",
    "for col in scalar_df.columns[:-1]:  # Exclude 'class'\n",
    "    plt.figure(figsize=(8, 5))\n",
    "    sns.boxplot(x='class', y=col, data=scalar_df, order=['low', 'normal', 'high'])\n",
    "    plt.title(f'Box Plot of {col} by Class')\n",
    "    plt.xlabel('Class')\n",
    "    plt.ylabel(col)\n",
    "    plt.show()\n",
    "\n",
    "#### 2.3. Statistical Tests (ANOVA)\n",
    "print(\"\\nANOVA Tests for Scalar Features:\")\n",
    "for col in scalar_df.columns[:-1]:\n",
    "    low_vals = scalar_df[scalar_df['class'] == 'low'][col]\n",
    "    normal_vals = scalar_df[scalar_df['class'] == 'normal'][col]\n",
    "    high_vals = scalar_df[scalar_df['class'] == 'high'][col]\n",
    "    f_stat, p_val = f_oneway(low_vals, normal_vals, high_vals)\n",
    "    print(f\"{col}: F-statistic = {f_stat:.2f}, p-value = {p_val:.4f}\")\n",
    "\n",
    "\n",
    "### Step 3: Time Series Feature Analysis\n",
    "feature_names = ['time', 'S1', 'S2', 'S1/S2']\n",
    "\n",
    "#### 3.1. Average Time Series Curves\n",
    "print(\"\\n### Time Series Feature Analysis ###\")\n",
    "print(\"Generating average time series plots...\")\n",
    "for feature_idx, feature_name in enumerate(feature_names):\n",
    "    plt.figure(figsize=(10, 6))\n",
    "    for cls in ['low', 'normal', 'high']:\n",
    "        cls_mask = train_classes == cls\n",
    "        cls_ts = train_ts[cls_mask, :, feature_idx]\n",
    "        mean_ts = np.mean(cls_ts, axis=0)\n",
    "        plt.plot(mean_ts, label=cls)\n",
    "    plt.title(f'Average {feature_name} Time Series by Class')\n",
    "    plt.xlabel('Time Step')\n",
    "    plt.ylabel(feature_name)\n",
    "    plt.legend()\n",
    "    plt.show()\n",
    "\n",
    "#### 3.2. Summary Statistics for Time Series\n",
    "print(\"\\nSummary Statistics for Time Series Features:\")\n",
    "for feature_idx, feature_name in enumerate(feature_names):\n",
    "    print(f\"\\n{feature_name}:\")\n",
    "    for cls in ['low', 'normal', 'high']:\n",
    "        cls_mask = train_classes == cls\n",
    "        cls_ts = train_ts[cls_mask, :, feature_idx]\n",
    "        overall_mean = np.mean(cls_ts)\n",
    "        overall_min = np.min(cls_ts)\n",
    "        overall_max = np.max(cls_ts)\n",
    "        print(f\"{cls.capitalize()}: Mean = {overall_mean:.4f}, Min = {overall_min:.4f}, Max = {overall_max:.4f}\")\n",
    "\n",
    "#### 3.3. Dynamic Time Warping (DTW) for Similarity\n",
    "print(\"\\nComputing DTW distances (example for S1 between low and high)...\")\n",
    "sample_size = 50\n",
    "low_sample = train_ts[train_classes == 'low'][:sample_size]\n",
    "high_sample = train_ts[train_classes == 'high'][:sample_size]\n",
    "\n",
    "# Compute DTW for S1 (feature_idx=1)\n",
    "dtw_distances = []\n",
    "for low_ts in low_sample:\n",
    "    for high_ts in high_sample:\n",
    "        distance, _ = fastdtw(low_ts[:, 1], high_ts[:, 1])\n",
    "        dtw_distances.append(distance)\n",
    "avg_dtw = np.mean(dtw_distances)\n",
    "print(f\"Average DTW distance between low and high for S1: {avg_dtw:.2f}\")\n",
    "\n",
    "\n",
    "### Step 4: Interpretation\n",
    "print(\"\\n### Interpretation ###\")\n",
    "print(\"To determine if features are informative:\")\n",
    "print(\"- Scalar Features: Check ANOVA p-values (< 0.05) and box plot overlap.\")\n",
    "print(\"- Time Series: Look for distinct patterns in plots and differences in summary stats or DTW.\")\n",
    "print(\"Adjust feature engineering or data as needed based on results.\")"
   ]
  }
 ],
 "metadata": {
  "kernelspec": {
   "display_name": "Python 3",
   "language": "python",
   "name": "python3"
  },
  "language_info": {
   "codemirror_mode": {
    "name": "ipython",
    "version": 3
   },
   "file_extension": ".py",
   "mimetype": "text/x-python",
   "name": "python",
   "nbconvert_exporter": "python",
   "pygments_lexer": "ipython3",
   "version": "3.8.10"
  }
 },
 "nbformat": 4,
 "nbformat_minor": 2
}
