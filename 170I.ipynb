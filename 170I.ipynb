{
 "cells": [
  {
   "cell_type": "code",
   "execution_count": 1,
   "metadata": {},
   "outputs": [
    {
     "name": "stderr",
     "output_type": "stream",
     "text": [
      "/home/mohammad/.local/lib/python3.8/site-packages/scipy/__init__.py:146: UserWarning: A NumPy version >=1.16.5 and <1.23.0 is required for this version of SciPy (detected version 1.24.4\n",
      "  warnings.warn(f\"A NumPy version >={np_minversion} and <{np_maxversion}\"\n"
     ]
    }
   ],
   "source": [
    "from bounds import bounds\n",
    "import matplotlib.pyplot as plt\n",
    "import pandas as pd\n",
    "import numpy as np\n",
    "import ast\n",
    "from cooper_standard import CooperStandard"
   ]
  },
  {
   "cell_type": "code",
   "execution_count": 2,
   "metadata": {},
   "outputs": [
    {
     "name": "stdout",
     "output_type": "stream",
     "text": [
      "Total number of batches: 3439\n",
      "Number of low batches (t5 < 5.5): 50\n",
      "Number of normal batches (5.5 <= t5 <= 9.5): 3381\n",
      "Number of high batches (t5 > 9.5): 8\n",
      "\n",
      "Total number of batches: 737\n",
      "Number of low batches (t5 < 5.5): 8\n",
      "Number of normal batches (5.5 <= t5 <= 9.5): 727\n",
      "Number of high batches (t5 > 9.5): 2\n",
      "\n",
      "Total number of batches: 737\n",
      "Number of low batches (t5 < 5.5): 6\n",
      "Number of normal batches (5.5 <= t5 <= 9.5): 727\n",
      "Number of high batches (t5 > 9.5): 4\n",
      "\n"
     ]
    }
   ],
   "source": [
    "# Example usage\n",
    "file_path = \"DataOn2025Jan08.xlsx\"\n",
    "sheet_names = [\"NES170I08Line1\"]\n",
    "variables = [\"batch_number\", \"MDRTorqueS1\", \"MDRTorqueS2\", \n",
    "             \"mh\", \"ml\", \"TimeAtML\", \"TimeAtML_min\", \"ml_min\", \"start_time\", \"end_time\", \"t5\"]\n",
    "\n",
    "cooper_standard = CooperStandard(file_path, sheet_names, variables)\n",
    "df_all = cooper_standard.load_data()\n",
    "df_vars = cooper_standard.df_variables()\n",
    "cleaned_df, removed_batches = cooper_standard.preprocessing(280)\n",
    "lb, ub = bounds[\"170I\"][0], bounds[\"170I\"][1]  # Assuming bounds is defined elsewhere\n",
    "#df_low, df_normal, df_high = cooper_standard.categorize_t5(lb, ub)\n",
    "\n",
    "# Convert to dictionary\n",
    "df_normal_dict = cooper_standard.convert_to_dict(cleaned_df)\n",
    "\n",
    "# Split the data\n",
    "train_dict, val_dict, test_dict = cooper_standard.split_data(df_normal_dict, random_state=42)\n",
    "\n",
    "# Normalize using training data statistics\n",
    "train_dict_norm = cooper_standard.normalize_data(train_dict, fit=True)\n",
    "val_dict_norm = cooper_standard.normalize_data(val_dict, fit=False)\n",
    "test_dict_norm = cooper_standard.normalize_data(test_dict, fit=False)\n",
    "\n",
    "cooper_standard.print_t5_categories(train_dict_norm, lb, ub)\n",
    "cooper_standard.print_t5_categories(val_dict_norm, lb, ub)\n",
    "cooper_standard.print_t5_categories(test_dict_norm, lb, ub)"
   ]
  },
  {
   "cell_type": "code",
   "execution_count": 3,
   "metadata": {},
   "outputs": [
    {
     "name": "stdout",
     "output_type": "stream",
     "text": [
      "number of training data points: 3439\n",
      "number of validation data points: 737\n",
      "number of test data points: 737\n"
     ]
    }
   ],
   "source": [
    "print(f\"number of training data points: {len(train_dict_norm)}\")\n",
    "print(f\"number of validation data points: {len(val_dict_norm)}\")\n",
    "print(f\"number of test data points: {len(test_dict_norm)}\")"
   ]
  },
  {
   "cell_type": "markdown",
   "metadata": {},
   "source": [
    "**Model**"
   ]
  },
  {
   "cell_type": "code",
   "execution_count": 4,
   "metadata": {},
   "outputs": [
    {
     "name": "stderr",
     "output_type": "stream",
     "text": [
      "2025-03-02 04:20:36.692080: W tensorflow/stream_executor/platform/default/dso_loader.cc:64] Could not load dynamic library 'libcudart.so.11.0'; dlerror: libcudart.so.11.0: cannot open shared object file: No such file or directory\n",
      "2025-03-02 04:20:36.692118: I tensorflow/stream_executor/cuda/cudart_stub.cc:29] Ignore above cudart dlerror if you do not have a GPU set up on your machine.\n"
     ]
    }
   ],
   "source": [
    "from keras.models import Model\n",
    "from keras.layers import Input, LSTM, Dense, Concatenate"
   ]
  },
  {
   "cell_type": "code",
   "execution_count": 5,
   "metadata": {},
   "outputs": [],
   "source": [
    "def prepare_data_from_dict(data_dict):\n",
    "    # Extract time series, scalar features, and targets from the dictionary\n",
    "    time_series = np.array([batch[\"time_series\"] for batch in data_dict.values()])\n",
    "    scalar_features = np.array([batch[\"scalar_features\"] for batch in data_dict.values()])\n",
    "    targets = np.array([batch[\"t5\"] for batch in data_dict.values()])\n",
    "    return time_series, scalar_features, targets"
   ]
  },
  {
   "cell_type": "code",
   "execution_count": 6,
   "metadata": {},
   "outputs": [],
   "source": [
    "train_ts, train_scalar, train_targets = prepare_data_from_dict(train_dict_norm)\n",
    "val_ts, val_scalar, val_targets = prepare_data_from_dict(val_dict_norm)\n",
    "test_ts, test_scalar, test_targets = prepare_data_from_dict(test_dict_norm)"
   ]
  },
  {
   "cell_type": "code",
   "execution_count": 7,
   "metadata": {},
   "outputs": [
    {
     "name": "stderr",
     "output_type": "stream",
     "text": [
      "2025-03-02 04:21:42.558982: W tensorflow/stream_executor/platform/default/dso_loader.cc:64] Could not load dynamic library 'libcuda.so.1'; dlerror: libcuda.so.1: cannot open shared object file: No such file or directory\n",
      "2025-03-02 04:21:42.559057: W tensorflow/stream_executor/cuda/cuda_driver.cc:269] failed call to cuInit: UNKNOWN ERROR (303)\n",
      "2025-03-02 04:21:42.559111: I tensorflow/stream_executor/cuda/cuda_diagnostics.cc:156] kernel driver does not appear to be running on this host (ubuntu): /proc/driver/nvidia/version does not exist\n",
      "2025-03-02 04:21:42.559669: I tensorflow/core/platform/cpu_feature_guard.cc:151] This TensorFlow binary is optimized with oneAPI Deep Neural Network Library (oneDNN) to use the following CPU instructions in performance-critical operations:  AVX2 FMA\n",
      "To enable them in other operations, rebuild TensorFlow with the appropriate compiler flags.\n"
     ]
    }
   ],
   "source": [
    "# Get input shapes from the training data\n",
    "sequence_length = train_ts.shape[1]  # e.g., 100 if time series are truncated to 100 steps\n",
    "num_scalar_features = train_scalar.shape[1]  # e.g., 6 if there are 6 scalar features\n",
    "\n",
    "# Time series input branch\n",
    "ts_input = Input(shape=(sequence_length, 4), name='time_series_input')\n",
    "lstm_out = LSTM(units=64)(ts_input)  # Output shape: (batch_size, 64)\n",
    "\n",
    "# Scalar features input branch\n",
    "scalar_input = Input(shape=(num_scalar_features,), name='scalar_input')\n",
    "scalar_dense = Dense(16, activation='relu')(scalar_input)  # Output shape: (batch_size, 16)\n",
    "\n",
    "# Combine the two branches\n",
    "combined = Concatenate()([lstm_out, scalar_dense])  # Output shape: (batch_size, 64 + 16)\n",
    "\n",
    "# Dense layers for prediction\n",
    "dense = Dense(32, activation='relu')(combined)\n",
    "output = Dense(1, name='t5_output')(dense)  # Single output for regression\n",
    "\n",
    "# Define and compile the model\n",
    "model = Model(inputs=[ts_input, scalar_input], outputs=output)\n",
    "model.compile(optimizer='adam', loss='mse', metrics=['mae'])"
   ]
  },
  {
   "cell_type": "code",
   "execution_count": 8,
   "metadata": {},
   "outputs": [
    {
     "name": "stderr",
     "output_type": "stream",
     "text": [
      "2025-03-02 04:21:48.632341: W tensorflow/core/framework/cpu_allocator_impl.cc:82] Allocation of 15406720 exceeds 10% of free system memory.\n"
     ]
    },
    {
     "name": "stdout",
     "output_type": "stream",
     "text": [
      "Epoch 1/50\n",
      "108/108 [==============================] - 19s 150ms/step - loss: 6.4637 - mae: 1.5730 - val_loss: 0.6645 - val_mae: 0.6039\n",
      "Epoch 2/50\n",
      "108/108 [==============================] - 15s 140ms/step - loss: 0.6474 - mae: 0.6240 - val_loss: 0.6445 - val_mae: 0.5962\n",
      "Epoch 3/50\n",
      "108/108 [==============================] - 14s 130ms/step - loss: 0.6331 - mae: 0.6185 - val_loss: 0.6198 - val_mae: 0.5821\n",
      "Epoch 4/50\n",
      "108/108 [==============================] - 14s 134ms/step - loss: 0.5933 - mae: 0.5977 - val_loss: 0.5982 - val_mae: 0.5715\n",
      "Epoch 5/50\n",
      "108/108 [==============================] - 14s 129ms/step - loss: 0.5650 - mae: 0.5863 - val_loss: 0.5901 - val_mae: 0.5689\n",
      "Epoch 6/50\n",
      "108/108 [==============================] - 13s 118ms/step - loss: 0.5446 - mae: 0.5762 - val_loss: 0.5276 - val_mae: 0.5449\n",
      "Epoch 7/50\n",
      "108/108 [==============================] - 12s 114ms/step - loss: 0.5176 - mae: 0.5622 - val_loss: 0.5031 - val_mae: 0.5343\n",
      "Epoch 8/50\n",
      "108/108 [==============================] - 13s 122ms/step - loss: 0.4953 - mae: 0.5522 - val_loss: 0.5030 - val_mae: 0.5316\n",
      "Epoch 9/50\n",
      "108/108 [==============================] - 13s 124ms/step - loss: 0.4818 - mae: 0.5452 - val_loss: 0.4784 - val_mae: 0.5216\n",
      "Epoch 10/50\n",
      "108/108 [==============================] - 13s 124ms/step - loss: 0.4718 - mae: 0.5386 - val_loss: 0.4626 - val_mae: 0.5157\n",
      "Epoch 11/50\n",
      "108/108 [==============================] - 13s 123ms/step - loss: 0.4606 - mae: 0.5324 - val_loss: 0.4538 - val_mae: 0.5124\n",
      "Epoch 12/50\n",
      "108/108 [==============================] - 13s 122ms/step - loss: 0.4565 - mae: 0.5304 - val_loss: 0.4428 - val_mae: 0.5080\n",
      "Epoch 13/50\n",
      "108/108 [==============================] - 13s 124ms/step - loss: 0.4600 - mae: 0.5318 - val_loss: 0.4521 - val_mae: 0.5214\n",
      "Epoch 14/50\n",
      "108/108 [==============================] - 14s 129ms/step - loss: 0.4505 - mae: 0.5275 - val_loss: 0.4454 - val_mae: 0.5095\n",
      "Epoch 15/50\n",
      "108/108 [==============================] - 14s 128ms/step - loss: 0.4480 - mae: 0.5245 - val_loss: 0.4413 - val_mae: 0.5157\n",
      "Epoch 16/50\n",
      "108/108 [==============================] - 14s 129ms/step - loss: 0.4420 - mae: 0.5216 - val_loss: 0.4270 - val_mae: 0.5022\n",
      "Epoch 17/50\n",
      "108/108 [==============================] - 14s 125ms/step - loss: 0.4426 - mae: 0.5213 - val_loss: 0.4252 - val_mae: 0.5050\n",
      "Epoch 18/50\n",
      "108/108 [==============================] - 11s 105ms/step - loss: 0.4353 - mae: 0.5186 - val_loss: 0.4798 - val_mae: 0.5321\n",
      "Epoch 19/50\n",
      "108/108 [==============================] - 13s 118ms/step - loss: 0.4414 - mae: 0.5205 - val_loss: 0.4197 - val_mae: 0.5002\n",
      "Epoch 20/50\n",
      "108/108 [==============================] - 13s 121ms/step - loss: 0.4369 - mae: 0.5193 - val_loss: 0.4228 - val_mae: 0.5007\n",
      "Epoch 21/50\n",
      "108/108 [==============================] - 11s 106ms/step - loss: 0.4347 - mae: 0.5175 - val_loss: 0.4551 - val_mae: 0.5184\n",
      "Epoch 22/50\n",
      "108/108 [==============================] - 11s 106ms/step - loss: 0.4369 - mae: 0.5200 - val_loss: 0.4211 - val_mae: 0.5052\n",
      "Epoch 23/50\n",
      "108/108 [==============================] - 12s 114ms/step - loss: 0.4364 - mae: 0.5186 - val_loss: 0.4405 - val_mae: 0.5107\n",
      "Epoch 24/50\n",
      "108/108 [==============================] - 13s 116ms/step - loss: 0.4360 - mae: 0.5187 - val_loss: 0.4262 - val_mae: 0.5030\n",
      "Epoch 25/50\n",
      "108/108 [==============================] - 12s 115ms/step - loss: 0.4304 - mae: 0.5138 - val_loss: 0.4267 - val_mae: 0.5036\n",
      "Epoch 26/50\n",
      "108/108 [==============================] - 13s 117ms/step - loss: 0.4368 - mae: 0.5203 - val_loss: 0.4115 - val_mae: 0.4972\n",
      "Epoch 27/50\n",
      "108/108 [==============================] - 16s 146ms/step - loss: 0.4410 - mae: 0.5208 - val_loss: 0.4221 - val_mae: 0.5086\n",
      "Epoch 28/50\n",
      "108/108 [==============================] - 15s 142ms/step - loss: 0.4306 - mae: 0.5152 - val_loss: 0.4216 - val_mae: 0.5087\n",
      "Epoch 29/50\n",
      "108/108 [==============================] - 15s 137ms/step - loss: 0.4329 - mae: 0.5171 - val_loss: 0.4125 - val_mae: 0.5017\n",
      "Epoch 30/50\n",
      "108/108 [==============================] - 15s 139ms/step - loss: 0.4312 - mae: 0.5172 - val_loss: 0.4699 - val_mae: 0.5301\n",
      "Epoch 31/50\n",
      "108/108 [==============================] - 16s 144ms/step - loss: 0.4439 - mae: 0.5235 - val_loss: 0.4197 - val_mae: 0.5008\n",
      "Epoch 32/50\n",
      "108/108 [==============================] - 15s 135ms/step - loss: 0.4274 - mae: 0.5133 - val_loss: 0.4513 - val_mae: 0.5189\n",
      "Epoch 33/50\n",
      "108/108 [==============================] - 15s 140ms/step - loss: 0.4249 - mae: 0.5112 - val_loss: 0.4167 - val_mae: 0.5073\n",
      "Epoch 34/50\n",
      "108/108 [==============================] - 13s 122ms/step - loss: 0.4231 - mae: 0.5109 - val_loss: 0.4088 - val_mae: 0.4963\n",
      "Epoch 35/50\n",
      "108/108 [==============================] - 12s 110ms/step - loss: 0.4242 - mae: 0.5111 - val_loss: 0.4135 - val_mae: 0.4984\n",
      "Epoch 36/50\n",
      "108/108 [==============================] - 13s 124ms/step - loss: 0.4274 - mae: 0.5138 - val_loss: 0.4124 - val_mae: 0.5050\n",
      "Epoch 37/50\n",
      "108/108 [==============================] - 13s 121ms/step - loss: 0.4256 - mae: 0.5139 - val_loss: 0.4041 - val_mae: 0.4979\n",
      "Epoch 38/50\n",
      "108/108 [==============================] - 13s 120ms/step - loss: 0.4200 - mae: 0.5089 - val_loss: 0.4053 - val_mae: 0.4955\n",
      "Epoch 39/50\n",
      "108/108 [==============================] - 13s 125ms/step - loss: 0.4294 - mae: 0.5147 - val_loss: 0.4071 - val_mae: 0.4962\n",
      "Epoch 40/50\n",
      "108/108 [==============================] - 13s 122ms/step - loss: 0.4257 - mae: 0.5124 - val_loss: 0.4025 - val_mae: 0.4972\n",
      "Epoch 41/50\n",
      "108/108 [==============================] - 13s 121ms/step - loss: 0.4212 - mae: 0.5091 - val_loss: 0.4022 - val_mae: 0.4952\n",
      "Epoch 42/50\n",
      "108/108 [==============================] - 13s 119ms/step - loss: 0.4203 - mae: 0.5096 - val_loss: 0.4014 - val_mae: 0.4950\n",
      "Epoch 43/50\n",
      "108/108 [==============================] - 13s 124ms/step - loss: 0.4173 - mae: 0.5068 - val_loss: 0.4032 - val_mae: 0.4954\n",
      "Epoch 44/50\n",
      "108/108 [==============================] - 13s 120ms/step - loss: 0.4246 - mae: 0.5113 - val_loss: 0.4013 - val_mae: 0.4974\n",
      "Epoch 45/50\n",
      "108/108 [==============================] - 13s 124ms/step - loss: 0.4181 - mae: 0.5079 - val_loss: 0.3997 - val_mae: 0.4969\n",
      "Epoch 46/50\n",
      "108/108 [==============================] - 13s 123ms/step - loss: 0.4225 - mae: 0.5094 - val_loss: 0.4202 - val_mae: 0.5033\n",
      "Epoch 47/50\n",
      "108/108 [==============================] - 13s 118ms/step - loss: 0.4222 - mae: 0.5094 - val_loss: 0.3991 - val_mae: 0.4953\n",
      "Epoch 48/50\n",
      "108/108 [==============================] - 13s 124ms/step - loss: 0.4221 - mae: 0.5097 - val_loss: 0.4271 - val_mae: 0.5200\n",
      "Epoch 49/50\n",
      "108/108 [==============================] - 13s 120ms/step - loss: 0.4202 - mae: 0.5095 - val_loss: 0.4010 - val_mae: 0.4996\n",
      "Epoch 50/50\n",
      "108/108 [==============================] - 13s 124ms/step - loss: 0.4328 - mae: 0.5135 - val_loss: 0.3997 - val_mae: 0.4943\n"
     ]
    }
   ],
   "source": [
    "# Train the model\n",
    "history = model.fit(\n",
    "    [train_ts, train_scalar], train_targets,  # Training inputs and targets\n",
    "    validation_data=([val_ts, val_scalar], val_targets),  # Validation inputs and targets\n",
    "    epochs=50,  # Number of epochs (adjust as needed)\n",
    "    batch_size=32,  # Batch size (adjust based on your data size)\n",
    "    verbose=1  # Show training progress\n",
    ")"
   ]
  },
  {
   "cell_type": "code",
   "execution_count": 9,
   "metadata": {},
   "outputs": [
    {
     "data": {
      "image/png": "[encoded data removed]",
      "text/plain": [
       "<Figure size 432x288 with 1 Axes>"
      ]
     },
     "metadata": {
      "needs_background": "light"
     },
     "output_type": "display_data"
    }
   ],
   "source": [
    "# Plot training and validation loss\n",
    "plt.plot(history.history['loss'], label='Training Loss')\n",
    "plt.plot(history.history['val_loss'], label='Validation Loss')\n",
    "plt.title('Model Loss Over Epochs')\n",
    "plt.xlabel('Epochs')\n",
    "plt.ylabel('Loss (MSE)')\n",
    "plt.legend()\n",
    "plt.show()"
   ]
  },
  {
   "cell_type": "code",
   "execution_count": 10,
   "metadata": {},
   "outputs": [
    {
     "name": "stderr",
     "output_type": "stream",
     "text": [
      "2025-03-02 04:33:04.796556: W tensorflow/core/framework/cpu_allocator_impl.cc:82] Allocation of 15406720 exceeds 10% of free system memory.\n"
     ]
    },
    {
     "name": "stdout",
     "output_type": "stream",
     "text": [
      "Training Set - Loss (MSE): 0.4101, MAE: 0.5023\n",
      "Validation Set - Loss (MSE): 0.3997, MAE: 0.4943\n",
      "Test Set - Loss (MSE): 0.3940, MAE: 0.4852\n"
     ]
    }
   ],
   "source": [
    "train_loss, train_mae = model.evaluate([train_ts, train_scalar], train_targets, verbose=0)\n",
    "print(f\"Training Set - Loss (MSE): {train_loss:.4f}, MAE: {train_mae:.4f}\")\n",
    "val_loss, val_mae = model.evaluate([val_ts, val_scalar], val_targets, verbose=0)\n",
    "print(f\"Validation Set - Loss (MSE): {val_loss:.4f}, MAE: {val_mae:.4f}\")\n",
    "test_loss, test_mae = model.evaluate([test_ts, test_scalar], test_targets, verbose=0)\n",
    "print(f\"Test Set - Loss (MSE): {test_loss:.4f}, MAE: {test_mae:.4f}\")"
   ]
  },
  {
   "cell_type": "code",
   "execution_count": 11,
   "metadata": {},
   "outputs": [
    {
     "name": "stderr",
     "output_type": "stream",
     "text": [
      "2025-03-02 04:33:09.945891: W tensorflow/core/framework/cpu_allocator_impl.cc:82] Allocation of 15406720 exceeds 10% of free system memory.\n"
     ]
    }
   ],
   "source": [
    "train_pred = model.predict([train_ts, train_scalar]).flatten()\n",
    "val_pred = model.predict([val_ts, val_scalar]).flatten()\n",
    "test_pred = model.predict([test_ts, test_scalar]).flatten()"
   ]
  },
  {
   "cell_type": "code",
   "execution_count": 12,
   "metadata": {},
   "outputs": [],
   "source": [
    "def compute_class_metrics(true_t5, pred_t5, lb, ub):\n",
    "    # Masks for true classes\n",
    "    low_mask = true_t5 < lb\n",
    "    normal_mask = (true_t5 >= lb) & (true_t5 <= ub)\n",
    "    high_mask = true_t5 > ub\n",
    "    \n",
    "    # Masks for predicted classes\n",
    "    pred_low = pred_t5 < lb\n",
    "    pred_normal = (pred_t5 >= lb) & (pred_t5 <= ub)\n",
    "    pred_high = pred_t5 > ub\n",
    "    \n",
    "    # Helper function to compute MAE and accuracy\n",
    "    def get_metrics(mask, pred_class):\n",
    "        if np.sum(mask) == 0:  # Handle empty classes\n",
    "            return np.nan, np.nan\n",
    "        mae = np.mean(np.abs(true_t5[mask] - pred_t5[mask]))\n",
    "        accuracy = np.mean(pred_class[mask]) * 100  # Percentage\n",
    "        return mae, accuracy\n",
    "    \n",
    "    # Compute metrics for each class\n",
    "    low_mae, low_acc = get_metrics(low_mask, pred_low)\n",
    "    normal_mae, normal_acc = get_metrics(normal_mask, pred_normal)\n",
    "    high_mae, high_acc = get_metrics(high_mask, pred_high)\n",
    "    \n",
    "    return {\n",
    "        'low': {'mae': low_mae, 'accuracy': low_acc},\n",
    "        'normal': {'mae': normal_mae, 'accuracy': normal_acc},\n",
    "        'high': {'mae': high_mae, 'accuracy': high_acc}\n",
    "    }"
   ]
  },
  {
   "cell_type": "code",
   "execution_count": 13,
   "metadata": {},
   "outputs": [],
   "source": [
    "def print_metrics(metrics, dataset_name):\n",
    "    print(f\"--- {dataset_name} ---\")\n",
    "    for class_name in ['low', 'normal', 'high']:\n",
    "        mae = metrics[class_name]['mae']\n",
    "        acc = metrics[class_name]['accuracy']\n",
    "        if np.isnan(mae):\n",
    "            print(f\"{class_name.capitalize()}: No data points\")\n",
    "        else:\n",
    "            print(f\"{class_name.capitalize()}: MAE = {mae:.4f}, Accuracy = {acc:.2f}%\")"
   ]
  },
  {
   "cell_type": "code",
   "execution_count": 14,
   "metadata": {},
   "outputs": [
    {
     "name": "stdout",
     "output_type": "stream",
     "text": [
      "--- Training Set ---\n",
      "Low: MAE = 1.4598, Accuracy = 0.00%\n",
      "Normal: MAE = 0.4857, Accuracy = 99.97%\n",
      "High: MAE = 1.5194, Accuracy = 25.00%\n",
      "--- Validation Set ---\n",
      "Low: MAE = 1.4001, Accuracy = 0.00%\n",
      "Normal: MAE = 0.4800, Accuracy = 100.00%\n",
      "High: MAE = 2.0682, Accuracy = 50.00%\n",
      "--- Test Set ---\n",
      "Low: MAE = 1.4338, Accuracy = 0.00%\n",
      "Normal: MAE = 0.4686, Accuracy = 100.00%\n",
      "High: MAE = 2.0788, Accuracy = 50.00%\n"
     ]
    }
   ],
   "source": [
    "# Compute metrics\n",
    "train_metrics = compute_class_metrics(train_targets, train_pred, lb, ub)\n",
    "val_metrics = compute_class_metrics(val_targets, val_pred, lb, ub)\n",
    "test_metrics = compute_class_metrics(test_targets, test_pred, lb, ub)\n",
    "\n",
    "# Print results\n",
    "print_metrics(train_metrics, \"Training Set\")\n",
    "print_metrics(val_metrics, \"Validation Set\")\n",
    "print_metrics(test_metrics, \"Test Set\")"
   ]
  },
  {
   "cell_type": "code",
   "execution_count": null,
   "metadata": {},
   "outputs": [
    {
     "name": "stdout",
     "output_type": "stream",
     "text": [
      "Class Distribution for Training Set:\n",
      "normal    3381\n",
      "low         50\n",
      "high         8\n",
      "dtype: int64\n",
      "Percentage:\n",
      "normal    98.313463\n",
      "low        1.453911\n",
      "high       0.232626\n",
      "dtype: float64\n",
      "\n",
      "Class Distribution for Validation Set:\n",
      "normal    727\n",
      "low         8\n",
      "high        2\n",
      "dtype: int64\n",
      "Percentage:\n",
      "normal    98.643148\n",
      "low        1.085482\n",
      "high       0.271370\n",
      "dtype: float64\n",
      "\n",
      "Class Distribution for Test Set:\n",
      "normal    727\n",
      "low         6\n",
      "high        4\n",
      "dtype: int64\n",
      "Percentage:\n",
      "normal    98.643148\n",
      "low        0.814111\n",
      "high       0.542741\n",
      "dtype: float64\n",
      "\n",
      "Mean of Scalar Features by Class:\n",
      "               0         1         2         3         4         5\n",
      "class                                                             \n",
      "high    0.678785  0.547634  0.583333  0.851540  0.548347  0.148780\n",
      "low     0.776242  0.717903  0.583636  0.507331  0.758998  0.049951\n",
      "normal  0.776529  0.707320  0.619236  0.678941  0.749651  0.050399\n",
      "\n",
      "Standard Deviation of Scalar Features by Class:\n",
      "               0         1         2         3         4         5\n",
      "class                                                             \n",
      "high    0.142127  0.211305  0.086850  0.100149  0.333676  0.143480\n",
      "low     0.065407  0.117903  0.118998  0.113214  0.075336  0.028910\n",
      "normal  0.064537  0.079284  0.109186  0.095467  0.044528  0.037751\n"
     ]
    },
    {
     "data": {
      "image/png": "[encoded data removed]",
      "text/plain": [
       "<Figure size 432x288 with 1 Axes>"
      ]
     },
     "metadata": {
      "needs_background": "light"
     },
     "output_type": "display_data"
    },
    {
     "data": {
      "image/png": "[encoded data removed]",
      "text/plain": [
       "<Figure size 432x288 with 1 Axes>"
      ]
     },
     "metadata": {
      "needs_background": "light"
     },
     "output_type": "display_data"
    },
    {
     "data": {
      "image/png": "[encoded data removed]",
      "text/plain": [
       "<Figure size 432x288 with 1 Axes>"
      ]
     },
     "metadata": {
      "needs_background": "light"
     },
     "output_type": "display_data"
    },
    {
     "data": {
      "image/png": "[encoded data removed]",
      "text/plain": [
       "<Figure size 432x288 with 1 Axes>"
      ]
     },
     "metadata": {
      "needs_background": "light"
     },
     "output_type": "display_data"
    },
    {
     "data": {
      "image/png": "[encoded data removed]",
      "text/plain": [
       "<Figure size 432x288 with 1 Axes>"
      ]
     },
     "metadata": {
      "needs_background": "light"
     },
     "output_type": "display_data"
    },
    {
     "data": {
      "image/png": "[encoded data removed]",
      "text/plain": [
       "<Figure size 432x288 with 1 Axes>"
      ]
     },
     "metadata": {
      "needs_background": "light"
     },
     "output_type": "display_data"
    }
   ],
   "source": [
    "import numpy as np\n",
    "import pandas as pd\n",
    "import matplotlib.pyplot as plt\n",
    "\n",
    "# Function to assign classes based on t5\n",
    "def categorize_t5(t5):\n",
    "    if t5 < lb:\n",
    "        return 'low'\n",
    "    elif lb <= t5 <= ub:\n",
    "        return 'normal'\n",
    "    else:\n",
    "        return 'high'\n",
    "\n",
    "# Analyze class distribution\n",
    "def analyze_class_distribution(targets, dataset_name):\n",
    "    classes = [categorize_t5(t) for t in targets]\n",
    "    class_counts = pd.Series(classes).value_counts()\n",
    "    print(f\"Class Distribution for {dataset_name}:\")\n",
    "    print(class_counts)\n",
    "    print(f\"Percentage:\\n{class_counts / len(targets) * 100}\\n\")\n",
    "\n",
    "# Analyze scalar features\n",
    "def analyze_scalar_features(scalar_features, targets):\n",
    "    df = pd.DataFrame(scalar_features)\n",
    "    df['class'] = [categorize_t5(t) for t in targets]\n",
    "    \n",
    "    # Compute mean and standard deviation by class\n",
    "    means = df.groupby('class').mean()\n",
    "    stds = df.groupby('class').std()\n",
    "    \n",
    "    print(\"Mean of Scalar Features by Class:\")\n",
    "    print(means)\n",
    "    print(\"\\nStandard Deviation of Scalar Features by Class:\")\n",
    "    print(stds)\n",
    "    \n",
    "    # Create box plots\n",
    "    for col in df.columns[:-1]:  # Exclude 'class'\n",
    "        df.boxplot(column=col, by='class')\n",
    "        plt.title(f'Box Plot of {col} by Class')\n",
    "        plt.show()\n",
    "    \n",
    "\n",
    "# Run the analysis\n",
    "analyze_class_distribution(train_targets, \"Training Set\")\n",
    "analyze_class_distribution(val_targets, \"Validation Set\")\n",
    "analyze_class_distribution(test_targets, \"Test Set\")\n",
    "analyze_scalar_features(train_scalar, train_targets)"
   ]
  }
 ],
 "metadata": {
  "kernelspec": {
   "display_name": "Python 3",
   "language": "python",
   "name": "python3"
  },
  "language_info": {
   "codemirror_mode": {
    "name": "ipython",
    "version": 3
   },
   "file_extension": ".py",
   "mimetype": "text/x-python",
   "name": "python",
   "nbconvert_exporter": "python",
   "pygments_lexer": "ipython3",
   "version": "3.8.10"
  }
 },
 "nbformat": 4,
 "nbformat_minor": 2
}
