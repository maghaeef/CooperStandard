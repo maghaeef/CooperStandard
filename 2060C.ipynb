{
 "cells": [
  {
   "cell_type": "code",
   "execution_count": 1,
   "metadata": {},
   "outputs": [
    {
     "name": "stderr",
     "output_type": "stream",
     "text": [
      "/home/mohammad/.local/lib/python3.8/site-packages/scipy/__init__.py:146: UserWarning: A NumPy version >=1.16.5 and <1.23.0 is required for this version of SciPy (detected version 1.24.4\n",
      "  warnings.warn(f\"A NumPy version >={np_minversion} and <{np_maxversion}\"\n"
     ]
    }
   ],
   "source": [
    "from bounds import bounds\n",
    "import matplotlib.pyplot as plt\n",
    "import numpy as np\n",
    "import ast\n",
    "from cooper_standard import CooperStandard"
   ]
  },
  {
   "cell_type": "code",
   "execution_count": 2,
   "metadata": {},
   "outputs": [
    {
     "name": "stdout",
     "output_type": "stream",
     "text": [
      "Total number of batches: 3238\n",
      "Number of low batches (t5 < 3.5): 790\n",
      "Number of normal batches (3.5 <= t5 <= 5.0): 2289\n",
      "Number of high batches (t5 > 5.0): 159\n",
      "\n",
      "Total number of batches: 694\n",
      "Number of low batches (t5 < 3.5): 166\n",
      "Number of normal batches (3.5 <= t5 <= 5.0): 491\n",
      "Number of high batches (t5 > 5.0): 37\n",
      "\n",
      "Total number of batches: 695\n",
      "Number of low batches (t5 < 3.5): 165\n",
      "Number of normal batches (3.5 <= t5 <= 5.0): 499\n",
      "Number of high batches (t5 > 5.0): 31\n",
      "\n"
     ]
    }
   ],
   "source": [
    "# Example usage\n",
    "file_path = \"DataOn2025Jan08.xlsx\"\n",
    "sheet_names = [\"NES2060C05Line2\", \"NES2060C06Line2\"]\n",
    "variables = [\"batch_number\", \"MDRTorqueS1\", \"MDRTorqueS2\", \n",
    "             \"mh\", \"ml\", \"TimeAtML\", \"TimeAtML_min\", \"ml_min\", \"start_time\", \"end_time\", \"t5\"]\n",
    "\n",
    "cooper_standard = CooperStandard(file_path, sheet_names, variables)\n",
    "df_all = cooper_standard.load_data()\n",
    "df_vars = cooper_standard.df_variables()\n",
    "cleaned_df, removed_batches = cooper_standard.preprocessing(280)\n",
    "lb, ub = bounds[\"2060C05\"][0], bounds[\"2060C05\"][1]  # Assuming bounds is defined elsewhere\n",
    "#df_low, df_normal, df_high = cooper_standard.categorize_t5(lb, ub)\n",
    "\n",
    "# Convert to dictionary\n",
    "df_normal_dict = cooper_standard.convert_to_dict(cleaned_df)\n",
    "\n",
    "# Split the data\n",
    "train_dict, val_dict, test_dict = cooper_standard.split_data(df_normal_dict, random_state=42)\n",
    "\n",
    "# Normalize using training data statistics\n",
    "train_dict_norm = cooper_standard.normalize_data(train_dict, fit=True)\n",
    "val_dict_norm = cooper_standard.normalize_data(val_dict, fit=False)\n",
    "test_dict_norm = cooper_standard.normalize_data(test_dict, fit=False)\n",
    "\n",
    "cooper_standard.print_t5_categories(train_dict_norm, lb, ub)\n",
    "cooper_standard.print_t5_categories(val_dict_norm, lb, ub)\n",
    "cooper_standard.print_t5_categories(test_dict_norm, lb, ub)"
   ]
  },
  {
   "cell_type": "code",
   "execution_count": 3,
   "metadata": {},
   "outputs": [
    {
     "name": "stdout",
     "output_type": "stream",
     "text": [
      "number of training data points: 3238\n",
      "number of validation data points: 694\n",
      "number of test data points: 695\n"
     ]
    }
   ],
   "source": [
    "print(f\"number of training data points: {len(train_dict_norm)}\")\n",
    "print(f\"number of validation data points: {len(val_dict_norm)}\")\n",
    "print(f\"number of test data points: {len(test_dict_norm)}\")"
   ]
  },
  {
   "cell_type": "markdown",
   "metadata": {},
   "source": [
    "**Model**"
   ]
  },
  {
   "cell_type": "code",
   "execution_count": 4,
   "metadata": {},
   "outputs": [
    {
     "name": "stderr",
     "output_type": "stream",
     "text": [
      "2025-03-02 04:29:52.281700: W tensorflow/stream_executor/platform/default/dso_loader.cc:64] Could not load dynamic library 'libcudart.so.11.0'; dlerror: libcudart.so.11.0: cannot open shared object file: No such file or directory\n",
      "2025-03-02 04:29:52.281730: I tensorflow/stream_executor/cuda/cudart_stub.cc:29] Ignore above cudart dlerror if you do not have a GPU set up on your machine.\n"
     ]
    }
   ],
   "source": [
    "from keras.models import Model\n",
    "from keras.layers import Input, LSTM, Dense, Concatenate"
   ]
  },
  {
   "cell_type": "code",
   "execution_count": 5,
   "metadata": {},
   "outputs": [],
   "source": [
    "def prepare_data_from_dict(data_dict):\n",
    "    # Extract time series, scalar features, and targets from the dictionary\n",
    "    time_series = np.array([batch[\"time_series\"] for batch in data_dict.values()])\n",
    "    scalar_features = np.array([batch[\"scalar_features\"] for batch in data_dict.values()])\n",
    "    targets = np.array([batch[\"t5\"] for batch in data_dict.values()])\n",
    "    return time_series, scalar_features, targets"
   ]
  },
  {
   "cell_type": "code",
   "execution_count": 6,
   "metadata": {},
   "outputs": [],
   "source": [
    "train_ts, train_scalar, train_targets = prepare_data_from_dict(train_dict_norm)\n",
    "val_ts, val_scalar, val_targets = prepare_data_from_dict(val_dict_norm)\n",
    "test_ts, test_scalar, test_targets = prepare_data_from_dict(test_dict_norm)"
   ]
  },
  {
   "cell_type": "code",
   "execution_count": 7,
   "metadata": {},
   "outputs": [
    {
     "name": "stderr",
     "output_type": "stream",
     "text": [
      "2025-03-02 04:33:56.278509: W tensorflow/stream_executor/platform/default/dso_loader.cc:64] Could not load dynamic library 'libcuda.so.1'; dlerror: libcuda.so.1: cannot open shared object file: No such file or directory\n",
      "2025-03-02 04:33:56.278555: W tensorflow/stream_executor/cuda/cuda_driver.cc:269] failed call to cuInit: UNKNOWN ERROR (303)\n",
      "2025-03-02 04:33:56.278589: I tensorflow/stream_executor/cuda/cuda_diagnostics.cc:156] kernel driver does not appear to be running on this host (ubuntu): /proc/driver/nvidia/version does not exist\n",
      "2025-03-02 04:33:56.279023: I tensorflow/core/platform/cpu_feature_guard.cc:151] This TensorFlow binary is optimized with oneAPI Deep Neural Network Library (oneDNN) to use the following CPU instructions in performance-critical operations:  AVX2 FMA\n",
      "To enable them in other operations, rebuild TensorFlow with the appropriate compiler flags.\n"
     ]
    }
   ],
   "source": [
    "# Get input shapes from the training data\n",
    "sequence_length = train_ts.shape[1]  # e.g., 100 if time series are truncated to 100 steps\n",
    "num_scalar_features = train_scalar.shape[1]  # e.g., 6 if there are 6 scalar features\n",
    "\n",
    "# Time series input branch\n",
    "ts_input = Input(shape=(sequence_length, 4), name='time_series_input')\n",
    "lstm_out = LSTM(units=64)(ts_input)  # Output shape: (batch_size, 64)\n",
    "\n",
    "# Scalar features input branch\n",
    "scalar_input = Input(shape=(num_scalar_features,), name='scalar_input')\n",
    "scalar_dense = Dense(16, activation='relu')(scalar_input)  # Output shape: (batch_size, 16)\n",
    "\n",
    "# Combine the two branches\n",
    "combined = Concatenate()([lstm_out, scalar_dense])  # Output shape: (batch_size, 64 + 16)\n",
    "\n",
    "# Dense layers for prediction\n",
    "dense = Dense(32, activation='relu')(combined)\n",
    "output = Dense(1, name='t5_output')(dense)  # Single output for regression\n",
    "\n",
    "# Define and compile the model\n",
    "model = Model(inputs=[ts_input, scalar_input], outputs=output)\n",
    "model.compile(optimizer='adam', loss='mse', metrics=['mae'])"
   ]
  },
  {
   "cell_type": "code",
   "execution_count": 8,
   "metadata": {},
   "outputs": [
    {
     "name": "stdout",
     "output_type": "stream",
     "text": [
      "Epoch 1/50\n",
      "102/102 [==============================] - 15s 124ms/step - loss: 2.5518 - mae: 1.1003 - val_loss: 0.4780 - val_mae: 0.5197\n",
      "Epoch 2/50\n",
      "102/102 [==============================] - 12s 116ms/step - loss: 0.4993 - mae: 0.5387 - val_loss: 0.4742 - val_mae: 0.5177\n",
      "Epoch 3/50\n",
      "102/102 [==============================] - 12s 120ms/step - loss: 0.4812 - mae: 0.5283 - val_loss: 0.4435 - val_mae: 0.4968\n",
      "Epoch 4/50\n",
      "102/102 [==============================] - 13s 127ms/step - loss: 0.4420 - mae: 0.5041 - val_loss: 0.4262 - val_mae: 0.4882\n",
      "Epoch 5/50\n",
      "102/102 [==============================] - 13s 124ms/step - loss: 0.4084 - mae: 0.4799 - val_loss: 0.3642 - val_mae: 0.4431\n",
      "Epoch 6/50\n",
      "102/102 [==============================] - 12s 118ms/step - loss: 0.3606 - mae: 0.4498 - val_loss: 0.3453 - val_mae: 0.4297\n",
      "Epoch 7/50\n",
      "102/102 [==============================] - 12s 118ms/step - loss: 0.3190 - mae: 0.4176 - val_loss: 0.3056 - val_mae: 0.3960\n",
      "Epoch 8/50\n",
      "102/102 [==============================] - 13s 124ms/step - loss: 0.2930 - mae: 0.3942 - val_loss: 0.2793 - val_mae: 0.3707\n",
      "Epoch 9/50\n",
      "102/102 [==============================] - 12s 121ms/step - loss: 0.2848 - mae: 0.3879 - val_loss: 0.2905 - val_mae: 0.3799\n",
      "Epoch 10/50\n",
      "102/102 [==============================] - 12s 115ms/step - loss: 0.2738 - mae: 0.3783 - val_loss: 0.2618 - val_mae: 0.3529\n",
      "Epoch 11/50\n",
      "102/102 [==============================] - 12s 120ms/step - loss: 0.2622 - mae: 0.3668 - val_loss: 0.2542 - val_mae: 0.3450\n",
      "Epoch 12/50\n",
      "102/102 [==============================] - 12s 121ms/step - loss: 0.2525 - mae: 0.3572 - val_loss: 0.2485 - val_mae: 0.3389\n",
      "Epoch 13/50\n",
      "102/102 [==============================] - 14s 138ms/step - loss: 0.2448 - mae: 0.3498 - val_loss: 0.2680 - val_mae: 0.3576\n",
      "Epoch 14/50\n",
      "102/102 [==============================] - 12s 119ms/step - loss: 0.2377 - mae: 0.3427 - val_loss: 0.2421 - val_mae: 0.3321\n",
      "Epoch 15/50\n",
      "102/102 [==============================] - 13s 126ms/step - loss: 0.2331 - mae: 0.3380 - val_loss: 0.2343 - val_mae: 0.3243\n",
      "Epoch 16/50\n",
      "102/102 [==============================] - 13s 126ms/step - loss: 0.2314 - mae: 0.3344 - val_loss: 0.2382 - val_mae: 0.3290\n",
      "Epoch 17/50\n",
      "102/102 [==============================] - 13s 128ms/step - loss: 0.2278 - mae: 0.3319 - val_loss: 0.2255 - val_mae: 0.3154\n",
      "Epoch 18/50\n",
      "102/102 [==============================] - 12s 120ms/step - loss: 0.2227 - mae: 0.3282 - val_loss: 0.2204 - val_mae: 0.3097\n",
      "Epoch 19/50\n",
      "102/102 [==============================] - 13s 128ms/step - loss: 0.2172 - mae: 0.3208 - val_loss: 0.2184 - val_mae: 0.3083\n",
      "Epoch 20/50\n",
      "102/102 [==============================] - 12s 118ms/step - loss: 0.2079 - mae: 0.3103 - val_loss: 0.2161 - val_mae: 0.3055\n",
      "Epoch 21/50\n",
      "102/102 [==============================] - 13s 124ms/step - loss: 0.2099 - mae: 0.3120 - val_loss: 0.2068 - val_mae: 0.2955\n",
      "Epoch 22/50\n",
      "102/102 [==============================] - 13s 123ms/step - loss: 0.2025 - mae: 0.3049 - val_loss: 0.2231 - val_mae: 0.3161\n",
      "Epoch 23/50\n",
      "102/102 [==============================] - 13s 124ms/step - loss: 0.2023 - mae: 0.3045 - val_loss: 0.1981 - val_mae: 0.2870\n",
      "Epoch 24/50\n",
      "102/102 [==============================] - 13s 125ms/step - loss: 0.1990 - mae: 0.3008 - val_loss: 0.1977 - val_mae: 0.2863\n",
      "Epoch 25/50\n",
      "102/102 [==============================] - 13s 127ms/step - loss: 0.1956 - mae: 0.2935 - val_loss: 0.1995 - val_mae: 0.2909\n",
      "Epoch 26/50\n",
      "102/102 [==============================] - 13s 124ms/step - loss: 0.1934 - mae: 0.2953 - val_loss: 0.1943 - val_mae: 0.2841\n",
      "Epoch 27/50\n",
      "102/102 [==============================] - 12s 122ms/step - loss: 0.1892 - mae: 0.2888 - val_loss: 0.1865 - val_mae: 0.2759\n",
      "Epoch 28/50\n",
      "102/102 [==============================] - 12s 122ms/step - loss: 0.1868 - mae: 0.2847 - val_loss: 0.1922 - val_mae: 0.2847\n",
      "Epoch 29/50\n",
      "102/102 [==============================] - 12s 122ms/step - loss: 0.1842 - mae: 0.2815 - val_loss: 0.1904 - val_mae: 0.2847\n",
      "Epoch 30/50\n",
      "102/102 [==============================] - 12s 121ms/step - loss: 0.1817 - mae: 0.2798 - val_loss: 0.1817 - val_mae: 0.2737\n",
      "Epoch 31/50\n",
      "102/102 [==============================] - 13s 125ms/step - loss: 0.1808 - mae: 0.2783 - val_loss: 0.1988 - val_mae: 0.3007\n",
      "Epoch 32/50\n",
      "102/102 [==============================] - 12s 118ms/step - loss: 0.1820 - mae: 0.2790 - val_loss: 0.1989 - val_mae: 0.3022\n",
      "Epoch 33/50\n",
      "102/102 [==============================] - 12s 120ms/step - loss: 0.1786 - mae: 0.2747 - val_loss: 0.1665 - val_mae: 0.2546\n",
      "Epoch 34/50\n",
      "102/102 [==============================] - 13s 127ms/step - loss: 0.1719 - mae: 0.2648 - val_loss: 0.2014 - val_mae: 0.3050\n",
      "Epoch 35/50\n",
      "102/102 [==============================] - 12s 122ms/step - loss: 0.1775 - mae: 0.2738 - val_loss: 0.1701 - val_mae: 0.2635\n",
      "Epoch 36/50\n",
      "102/102 [==============================] - 12s 121ms/step - loss: 0.1705 - mae: 0.2638 - val_loss: 0.1725 - val_mae: 0.2662\n",
      "Epoch 37/50\n",
      "102/102 [==============================] - 13s 123ms/step - loss: 0.1671 - mae: 0.2631 - val_loss: 0.1664 - val_mae: 0.2599\n",
      "Epoch 38/50\n",
      "102/102 [==============================] - 12s 120ms/step - loss: 0.1653 - mae: 0.2592 - val_loss: 0.1649 - val_mae: 0.2562\n",
      "Epoch 39/50\n",
      "102/102 [==============================] - 12s 122ms/step - loss: 0.1646 - mae: 0.2586 - val_loss: 0.1607 - val_mae: 0.2525\n",
      "Epoch 40/50\n",
      "102/102 [==============================] - 13s 124ms/step - loss: 0.1609 - mae: 0.2520 - val_loss: 0.1550 - val_mae: 0.2434\n",
      "Epoch 41/50\n",
      "102/102 [==============================] - 13s 125ms/step - loss: 0.1608 - mae: 0.2538 - val_loss: 0.1597 - val_mae: 0.2530\n",
      "Epoch 42/50\n",
      "102/102 [==============================] - 13s 127ms/step - loss: 0.1576 - mae: 0.2494 - val_loss: 0.1524 - val_mae: 0.2405\n",
      "Epoch 43/50\n",
      "102/102 [==============================] - 13s 126ms/step - loss: 0.1629 - mae: 0.2565 - val_loss: 0.1772 - val_mae: 0.2758\n",
      "Epoch 44/50\n",
      "102/102 [==============================] - 12s 119ms/step - loss: 0.1632 - mae: 0.2581 - val_loss: 0.1830 - val_mae: 0.2908\n",
      "Epoch 45/50\n",
      "102/102 [==============================] - 12s 118ms/step - loss: 0.1575 - mae: 0.2516 - val_loss: 0.1541 - val_mae: 0.2456\n",
      "Epoch 46/50\n",
      "102/102 [==============================] - 13s 126ms/step - loss: 0.1538 - mae: 0.2461 - val_loss: 0.1500 - val_mae: 0.2387\n",
      "Epoch 47/50\n",
      "102/102 [==============================] - 13s 124ms/step - loss: 0.1536 - mae: 0.2450 - val_loss: 0.1495 - val_mae: 0.2363\n",
      "Epoch 48/50\n",
      "102/102 [==============================] - 12s 121ms/step - loss: 0.1534 - mae: 0.2467 - val_loss: 0.1493 - val_mae: 0.2384\n",
      "Epoch 49/50\n",
      "102/102 [==============================] - 13s 125ms/step - loss: 0.1530 - mae: 0.2460 - val_loss: 0.1525 - val_mae: 0.2414\n",
      "Epoch 50/50\n",
      "102/102 [==============================] - 12s 120ms/step - loss: 0.1537 - mae: 0.2465 - val_loss: 0.1487 - val_mae: 0.2384\n"
     ]
    }
   ],
   "source": [
    "# Train the model\n",
    "history = model.fit(\n",
    "    [train_ts, train_scalar], train_targets,  # Training inputs and targets\n",
    "    validation_data=([val_ts, val_scalar], val_targets),  # Validation inputs and targets\n",
    "    epochs=50,  # Number of epochs (adjust as needed)\n",
    "    batch_size=32,  # Batch size (adjust based on your data size)\n",
    "    verbose=1  # Show training progress\n",
    ")"
   ]
  },
  {
   "cell_type": "code",
   "execution_count": 9,
   "metadata": {},
   "outputs": [
    {
     "data": {
      "image/png": "[encoded data removed]",
      "text/plain": [
       "<Figure size 432x288 with 1 Axes>"
      ]
     },
     "metadata": {
      "needs_background": "light"
     },
     "output_type": "display_data"
    }
   ],
   "source": [
    "# Plot training and validation loss\n",
    "plt.plot(history.history['loss'][1:], label='Training Loss')\n",
    "plt.plot(history.history['val_loss'][1:], label='Validation Loss')\n",
    "plt.title('Model Loss Over Epochs')\n",
    "plt.xlabel('Epochs')\n",
    "plt.ylabel('Loss (MSE)')\n",
    "plt.legend()\n",
    "plt.show()"
   ]
  },
  {
   "cell_type": "code",
   "execution_count": 10,
   "metadata": {},
   "outputs": [
    {
     "name": "stdout",
     "output_type": "stream",
     "text": [
      "Training Set - Loss (MSE): 0.1489, MAE: 0.2412\n",
      "Validation Set - Loss (MSE): 0.1487, MAE: 0.2384\n",
      "Test Set - Loss (MSE): 0.1472, MAE: 0.2580\n"
     ]
    }
   ],
   "source": [
    "train_loss, train_mae = model.evaluate([train_ts, train_scalar], train_targets, verbose=0)\n",
    "print(f\"Training Set - Loss (MSE): {train_loss:.4f}, MAE: {train_mae:.4f}\")\n",
    "val_loss, val_mae = model.evaluate([val_ts, val_scalar], val_targets, verbose=0)\n",
    "print(f\"Validation Set - Loss (MSE): {val_loss:.4f}, MAE: {val_mae:.4f}\")\n",
    "test_loss, test_mae = model.evaluate([test_ts, test_scalar], test_targets, verbose=0)\n",
    "print(f\"Test Set - Loss (MSE): {test_loss:.4f}, MAE: {test_mae:.4f}\")"
   ]
  },
  {
   "cell_type": "code",
   "execution_count": 11,
   "metadata": {},
   "outputs": [],
   "source": [
    "train_pred = model.predict([train_ts, train_scalar]).flatten()\n",
    "val_pred = model.predict([val_ts, val_scalar]).flatten()\n",
    "test_pred = model.predict([test_ts, test_scalar]).flatten()"
   ]
  },
  {
   "cell_type": "code",
   "execution_count": 12,
   "metadata": {},
   "outputs": [],
   "source": [
    "def compute_class_metrics(true_t5, pred_t5, lb, ub):\n",
    "    # Masks for true classes\n",
    "    low_mask = true_t5 < lb\n",
    "    normal_mask = (true_t5 >= lb) & (true_t5 <= ub)\n",
    "    high_mask = true_t5 > ub\n",
    "    \n",
    "    # Masks for predicted classes\n",
    "    pred_low = pred_t5 < lb\n",
    "    pred_normal = (pred_t5 >= lb) & (pred_t5 <= ub)\n",
    "    pred_high = pred_t5 > ub\n",
    "    \n",
    "    # Helper function to compute MAE and accuracy\n",
    "    def get_metrics(mask, pred_class):\n",
    "        if np.sum(mask) == 0:  # Handle empty classes\n",
    "            return np.nan, np.nan\n",
    "        mae = np.mean(np.abs(true_t5[mask] - pred_t5[mask]))\n",
    "        accuracy = np.mean(pred_class[mask]) * 100  # Percentage\n",
    "        return mae, accuracy\n",
    "    \n",
    "    # Compute metrics for each class\n",
    "    low_mae, low_acc = get_metrics(low_mask, pred_low)\n",
    "    normal_mae, normal_acc = get_metrics(normal_mask, pred_normal)\n",
    "    high_mae, high_acc = get_metrics(high_mask, pred_high)\n",
    "    \n",
    "    return {\n",
    "        'low': {'mae': low_mae, 'accuracy': low_acc},\n",
    "        'normal': {'mae': normal_mae, 'accuracy': normal_acc},\n",
    "        'high': {'mae': high_mae, 'accuracy': high_acc}\n",
    "    }"
   ]
  },
  {
   "cell_type": "code",
   "execution_count": 13,
   "metadata": {},
   "outputs": [],
   "source": [
    "def print_metrics(metrics, dataset_name):\n",
    "    print(f\"--- {dataset_name} ---\")\n",
    "    for class_name in ['low', 'normal', 'high']:\n",
    "        mae = metrics[class_name]['mae']\n",
    "        acc = metrics[class_name]['accuracy']\n",
    "        if np.isnan(mae):\n",
    "            print(f\"{class_name.capitalize()}: No data points\")\n",
    "        else:\n",
    "            print(f\"{class_name.capitalize()}: MAE = {mae:.4f}, Accuracy = {acc:.2f}%\")"
   ]
  },
  {
   "cell_type": "code",
   "execution_count": 14,
   "metadata": {},
   "outputs": [
    {
     "name": "stdout",
     "output_type": "stream",
     "text": [
      "--- Training Set ---\n",
      "Low: MAE = 0.2718, Accuracy = 76.96%\n",
      "Normal: MAE = 0.2181, Accuracy = 91.70%\n",
      "High: MAE = 0.4214, Accuracy = 55.35%\n",
      "--- Validation Set ---\n",
      "Low: MAE = 0.2681, Accuracy = 77.71%\n",
      "Normal: MAE = 0.2136, Accuracy = 91.65%\n",
      "High: MAE = 0.4331, Accuracy = 40.54%\n",
      "--- Test Set ---\n",
      "Low: MAE = 0.2529, Accuracy = 70.91%\n",
      "Normal: MAE = 0.2486, Accuracy = 91.78%\n",
      "High: MAE = 0.4362, Accuracy = 51.61%\n"
     ]
    }
   ],
   "source": [
    "# Compute metrics\n",
    "train_metrics = compute_class_metrics(train_targets, train_pred, lb, ub)\n",
    "val_metrics = compute_class_metrics(val_targets, val_pred, lb, ub)\n",
    "test_metrics = compute_class_metrics(test_targets, test_pred, lb, ub)\n",
    "\n",
    "# Print results\n",
    "print_metrics(train_metrics, \"Training Set\")\n",
    "print_metrics(val_metrics, \"Validation Set\")\n",
    "print_metrics(test_metrics, \"Test Set\")"
   ]
  },
  {
   "cell_type": "code",
   "execution_count": null,
   "metadata": {},
   "outputs": [
    {
     "name": "stdout",
     "output_type": "stream",
     "text": [
      "Class Distribution for Training Set:\n",
      "normal    4435\n",
      "high       360\n",
      "low        223\n",
      "dtype: int64\n",
      "Percentage:\n",
      "normal    88.381825\n",
      "high       7.174173\n",
      "low        4.444002\n",
      "dtype: float64\n",
      "\n",
      "Class Distribution for Validation Set:\n",
      "normal    945\n",
      "high       78\n",
      "low        52\n",
      "dtype: int64\n",
      "Percentage:\n",
      "normal    87.906977\n",
      "high       7.255814\n",
      "low        4.837209\n",
      "dtype: float64\n",
      "\n",
      "Class Distribution for Test Set:\n",
      "normal    961\n",
      "high       81\n",
      "low        34\n",
      "dtype: int64\n",
      "Percentage:\n",
      "normal    89.312268\n",
      "high       7.527881\n",
      "low        3.159851\n",
      "dtype: float64\n",
      "\n",
      "Mean of Scalar Features by Class:\n",
      "               0         1         2         3         4         5\n",
      "class                                                             \n",
      "high    0.458557  0.312527  0.536190  0.577961  0.322265  0.010653\n",
      "low     0.457467  0.336850  0.487124  0.432392  0.467155  0.010436\n",
      "normal  0.455130  0.322073  0.524535  0.506335  0.401179  0.010005\n",
      "\n",
      "Standard Deviation of Scalar Features by Class:\n",
      "               0         1         2         3         4         5\n",
      "class                                                             \n",
      "high    0.120338  0.095539  0.093327  0.063218  0.116028  0.006240\n",
      "low     0.103925  0.092200  0.096538  0.049314  0.117347  0.003571\n",
      "normal  0.116146  0.079134  0.084121  0.068745  0.115200  0.015551\n"
     ]
    },
    {
     "data": {
      "image/png": "[encoded data removed]",
      "text/plain": [
       "<Figure size 432x288 with 1 Axes>"
      ]
     },
     "metadata": {
      "needs_background": "light"
     },
     "output_type": "display_data"
    },
    {
     "data": {
      "image/png": "[encoded data removed]",
      "text/plain": [
       "<Figure size 432x288 with 1 Axes>"
      ]
     },
     "metadata": {
      "needs_background": "light"
     },
     "output_type": "display_data"
    },
    {
     "data": {
      "image/png": "[encoded data removed]",
      "text/plain": [
       "<Figure size 432x288 with 1 Axes>"
      ]
     },
     "metadata": {
      "needs_background": "light"
     },
     "output_type": "display_data"
    },
    {
     "data": {
      "image/png": "[encoded data removed]",
      "text/plain": [
       "<Figure size 432x288 with 1 Axes>"
      ]
     },
     "metadata": {
      "needs_background": "light"
     },
     "output_type": "display_data"
    },
    {
     "data": {
      "image/png": "[encoded data removed]",
      "text/plain": [
       "<Figure size 432x288 with 1 Axes>"
      ]
     },
     "metadata": {
      "needs_background": "light"
     },
     "output_type": "display_data"
    },
    {
     "data": {
      "image/png": "[encoded data removed]",
      "text/plain": [
       "<Figure size 432x288 with 1 Axes>"
      ]
     },
     "metadata": {
      "needs_background": "light"
     },
     "output_type": "display_data"
    }
   ],
   "source": [
    "import numpy as np\n",
    "import pandas as pd\n",
    "import matplotlib.pyplot as plt\n",
    "\n",
    "# Function to assign classes based on t5\n",
    "def categorize_t5(t5):\n",
    "    if t5 < lb:\n",
    "        return 'low'\n",
    "    elif lb <= t5 <= ub:\n",
    "        return 'normal'\n",
    "    else:\n",
    "        return 'high'\n",
    "\n",
    "# Analyze class distribution\n",
    "def analyze_class_distribution(targets, dataset_name):\n",
    "    classes = [categorize_t5(t) for t in targets]\n",
    "    class_counts = pd.Series(classes).value_counts()\n",
    "    print(f\"Class Distribution for {dataset_name}:\")\n",
    "    print(class_counts)\n",
    "    print(f\"Percentage:\\n{class_counts / len(targets) * 100}\\n\")\n",
    "\n",
    "# Analyze scalar features\n",
    "def analyze_scalar_features(scalar_features, targets):\n",
    "    df = pd.DataFrame(scalar_features)\n",
    "    df['class'] = [categorize_t5(t) for t in targets]\n",
    "    \n",
    "    # Compute mean and standard deviation by class\n",
    "    means = df.groupby('class').mean()\n",
    "    stds = df.groupby('class').std()\n",
    "    \n",
    "    print(\"Mean of Scalar Features by Class:\")\n",
    "    print(means)\n",
    "    print(\"\\nStandard Deviation of Scalar Features by Class:\")\n",
    "    print(stds)\n",
    "    \n",
    "    # Create box plots\n",
    "    for col in df.columns[:-1]:  # Exclude 'class'\n",
    "        df.boxplot(column=col, by='class')\n",
    "        plt.title(f'Box Plot of {col} by Class')\n",
    "        plt.show()\n",
    "\n",
    "# Run the analysis\n",
    "analyze_class_distribution(train_targets, \"Training Set\")\n",
    "analyze_class_distribution(val_targets, \"Validation Set\")\n",
    "analyze_class_distribution(test_targets, \"Test Set\")\n",
    "analyze_scalar_features(train_scalar, train_targets)"
   ]
  }
 ],
 "metadata": {
  "kernelspec": {
   "display_name": "Python 3",
   "language": "python",
   "name": "python3"
  },
  "language_info": {
   "codemirror_mode": {
    "name": "ipython",
    "version": 3
   },
   "file_extension": ".py",
   "mimetype": "text/x-python",
   "name": "python",
   "nbconvert_exporter": "python",
   "pygments_lexer": "ipython3",
   "version": "3.8.10"
  }
 },
 "nbformat": 4,
 "nbformat_minor": 2
}
